{
 "cells": [
  {
   "cell_type": "code",
   "execution_count": 1,
   "metadata": {},
   "outputs": [],
   "source": [
    "import numpy as np\n",
    "np.random.seed(123)"
   ]
  },
  {
   "cell_type": "markdown",
   "metadata": {},
   "source": [
    "- 데이터 로딩"
   ]
  },
  {
   "cell_type": "code",
   "execution_count": 2,
   "metadata": {},
   "outputs": [],
   "source": [
    "from tensorflow.keras.datasets import boston_housing\n",
    "\n",
    "(x_train, y_train), (x_test, y_test) = boston_housing.load_data()"
   ]
  },
  {
   "cell_type": "code",
   "execution_count": 3,
   "metadata": {},
   "outputs": [
    {
     "data": {
      "text/plain": [
       "array([  1.23247,   0.     ,   8.14   ,   0.     ,   0.538  ,   6.142  ,\n",
       "        91.7    ,   3.9769 ,   4.     , 307.     ,  21.     , 396.9    ,\n",
       "        18.72   ])"
      ]
     },
     "execution_count": 3,
     "metadata": {},
     "output_type": "execute_result"
    }
   ],
   "source": [
    "x_train[0]"
   ]
  },
  {
   "cell_type": "code",
   "execution_count": 4,
   "metadata": {},
   "outputs": [
    {
     "data": {
      "text/plain": [
       "15.2"
      ]
     },
     "execution_count": 4,
     "metadata": {},
     "output_type": "execute_result"
    }
   ],
   "source": [
    "y_train[0]"
   ]
  },
  {
   "cell_type": "markdown",
   "metadata": {},
   "source": [
    "- 데이터 표준화"
   ]
  },
  {
   "cell_type": "code",
   "execution_count": 5,
   "metadata": {},
   "outputs": [
    {
     "data": {
      "text/plain": [
       "array([-0.27224633, -0.48361547, -0.43576161, -0.25683275, -0.1652266 ,\n",
       "       -0.1764426 ,  0.81306188,  0.1166983 , -0.62624905, -0.59517003,\n",
       "        1.14850044,  0.44807713,  0.8252202 ])"
      ]
     },
     "execution_count": 5,
     "metadata": {},
     "output_type": "execute_result"
    }
   ],
   "source": [
    "train_mean = x_train.mean(axis=0)\n",
    "x_train -= train_mean\n",
    "train_std = x_train.std(axis=0)\n",
    "x_train /= train_std\n",
    "\n",
    "x_test -= train_mean\n",
    "x_test /= train_std\n",
    "x_train[0]"
   ]
  },
  {
   "cell_type": "markdown",
   "metadata": {},
   "source": [
    "- 모델 정의"
   ]
  },
  {
   "cell_type": "code",
   "execution_count": 6,
   "metadata": {},
   "outputs": [],
   "source": [
    "from tensorflow.keras.models import Sequential\n",
    "from tensorflow.keras.layers import Dense"
   ]
  },
  {
   "cell_type": "code",
   "execution_count": 7,
   "metadata": {},
   "outputs": [
    {
     "name": "stdout",
     "output_type": "stream",
     "text": [
      "Model: \"sequential\"\n",
      "_________________________________________________________________\n",
      "Layer (type)                 Output Shape              Param #   \n",
      "=================================================================\n",
      "dense (Dense)                (None, 64)                896       \n",
      "_________________________________________________________________\n",
      "dense_1 (Dense)              (None, 64)                4160      \n",
      "_________________________________________________________________\n",
      "dense_2 (Dense)              (None, 1)                 65        \n",
      "=================================================================\n",
      "Total params: 5,121\n",
      "Trainable params: 5,121\n",
      "Non-trainable params: 0\n",
      "_________________________________________________________________\n"
     ]
    }
   ],
   "source": [
    "model = Sequential()\n",
    "model.add(Dense(64, activation='relu', input_shape=(x_train.shape[1],)))\n",
    "model.add(Dense(64, activation='relu'))\n",
    "model.add(Dense(1))\n",
    "model.summary()"
   ]
  },
  {
   "cell_type": "code",
   "execution_count": 8,
   "metadata": {},
   "outputs": [
    {
     "name": "stdout",
     "output_type": "stream",
     "text": [
      "('Failed to import pydot. You must `pip install pydot` and install graphviz (https://graphviz.gitlab.io/download/), ', 'for `pydotprint` to work.')\n"
     ]
    }
   ],
   "source": [
    "from tensorflow.keras.utils import plot_model\n",
    "plot_model(model, show_shapes=True)"
   ]
  },
  {
   "cell_type": "markdown",
   "metadata": {},
   "source": [
    "- 컴파일을 포함한 모델 생성 함수 정의"
   ]
  },
  {
   "cell_type": "code",
   "execution_count": 9,
   "metadata": {},
   "outputs": [],
   "source": [
    "def build_model():\n",
    "    model = models.Sequential()\n",
    "    model.add(Dense(64, activation='relu', input_shape=(x_train.shape[1],)))\n",
    "    model.add(Dense(64, activation='relu'))\n",
    "    model.add(Dense(1))\n",
    "    model.compile(optimizer='rmsprop', loss='mse', metrics=['mae'])\n",
    "    return model"
   ]
  },
  {
   "cell_type": "markdown",
   "metadata": {},
   "source": [
    "- K-Fold Cross Validation (k=4, epochs=100)"
   ]
  },
  {
   "cell_type": "code",
   "execution_count": 10,
   "metadata": {},
   "outputs": [],
   "source": [
    "k = 4"
   ]
  },
  {
   "cell_type": "code",
   "execution_count": 11,
   "metadata": {},
   "outputs": [],
   "source": [
    "num_val_sample = len(x_train) // k\n",
    "num_epochs = 100\n",
    "all_scores = []"
   ]
  },
  {
   "cell_type": "code",
   "execution_count": 12,
   "metadata": {},
   "outputs": [
    {
     "name": "stdout",
     "output_type": "stream",
     "text": [
      "처리중인 폴드 : # 1\n",
      "처리중인 폴드 : # 2\n",
      "처리중인 폴드 : # 3\n",
      "처리중인 폴드 : # 4\n"
     ]
    }
   ],
   "source": [
    "for i in range(k):\n",
    "    print('처리중인 폴드 : #', i+1)\n",
    "    x_val = x_train[(i * num_val_sample) : ((i+1) * num_val_sample)]\n",
    "    y_val = y_train[(i * num_val_sample) : ((i+1) * num_val_sample)]\n",
    "    \n",
    "    p_x_train = np.concatenate(\n",
    "        [x_train[:(i * num_val_sample)],\n",
    "         x_train[((i+1) * num_val_sample):]], axis=0)\n",
    "    p_y_train = np.concatenate(\n",
    "        [y_train[:(i * num_val_sample)],\n",
    "         y_train[((i+1) * num_val_sample):]], axis=0)\n",
    "    \n",
    "    model = build_model()\n",
    "    model.fit(p_x_train, p_y_train, epochs = num_epochs, batch_size=1, verbose=0)\n",
    "    val_mse, val_mae = model.evaluate(x_val, y_val, verbose=0)\n",
    "    all_scores.append(val_mae)"
   ]
  },
  {
   "cell_type": "code",
   "execution_count": 13,
   "metadata": {},
   "outputs": [
    {
     "data": {
      "text/plain": [
       "[2.3823330402374268, 2.753225803375244, 2.607408285140991, 2.561948299407959]"
      ]
     },
     "execution_count": 13,
     "metadata": {},
     "output_type": "execute_result"
    }
   ],
   "source": [
    "all_scores"
   ]
  },
  {
   "cell_type": "code",
   "execution_count": 14,
   "metadata": {},
   "outputs": [
    {
     "data": {
      "text/plain": [
       "2.5762288570404053"
      ]
     },
     "execution_count": 14,
     "metadata": {},
     "output_type": "execute_result"
    }
   ],
   "source": [
    "np.mean(all_scores)"
   ]
  },
  {
   "cell_type": "markdown",
   "metadata": {},
   "source": [
    "- K-Fold Cross Validation (k=4, epochs=500)"
   ]
  },
  {
   "cell_type": "code",
   "execution_count": 15,
   "metadata": {},
   "outputs": [
    {
     "name": "stdout",
     "output_type": "stream",
     "text": [
      "처리중인 폴드 : # 1\n",
      "처리중인 폴드 : # 2\n",
      "처리중인 폴드 : # 3\n",
      "처리중인 폴드 : # 4\n"
     ]
    }
   ],
   "source": [
    "k=4\n",
    "num_epochs = 500\n",
    "all_scores = []\n",
    "\n",
    "for i in range(k):\n",
    "    print('처리중인 폴드 : #', i+1)\n",
    "    x_val = x_train[(i * num_val_sample) : ((i+1) * num_val_sample)]\n",
    "    y_val = y_train[(i * num_val_sample) : ((i+1) * num_val_sample)]\n",
    "    \n",
    "    p_x_train = np.concatenate(\n",
    "        [x_train[:(i * num_val_sample)],\n",
    "         x_train[((i+1) * num_val_sample):]], axis=0)\n",
    "    p_y_train = np.concatenate(\n",
    "        [y_train[:(i * num_val_sample)],\n",
    "         y_train[((i+1) * num_val_sample):]], axis=0)\n",
    "    \n",
    "    model = build_model()\n",
    "    history = model.fit(p_x_train, p_y_train,\n",
    "                        validation_data=(x_val, y_val),\n",
    "                        epochs = num_epochs, batch_size=1, verbose=0)\n",
    "    mae_history = history.history['val_mae']\n",
    "    all_scores.append(mae_history)"
   ]
  },
  {
   "cell_type": "code",
   "execution_count": 16,
   "metadata": {},
   "outputs": [],
   "source": [
    "mean_all_scores = [np.mean([x[i] for x in all_scores]) for i in range(num_epochs)]"
   ]
  },
  {
   "cell_type": "markdown",
   "metadata": {},
   "source": [
    "- 결과 시각화"
   ]
  },
  {
   "cell_type": "code",
   "execution_count": 17,
   "metadata": {},
   "outputs": [
    {
     "data": {
      "image/png": "[encoded data removed]",
      "text/plain": [
       "<Figure size 432x288 with 1 Axes>"
      ]
     },
     "metadata": {
      "needs_background": "light"
     },
     "output_type": "display_data"
    }
   ],
   "source": [
    "import matplotlib.pyplot as plt\n",
    "%matplotlib inline\n",
    "\n",
    "plt.plot(range(1, len(mean_all_scores)+1), mean_all_scores)\n",
    "plt.xlabel('Epochs')\n",
    "plt.ylabel('Validation MAE');"
   ]
  },
  {
   "cell_type": "markdown",
   "metadata": {},
   "source": [
    "- Smoothing Curve를 사용한 시각화"
   ]
  },
  {
   "cell_type": "code",
   "execution_count": 18,
   "metadata": {},
   "outputs": [],
   "source": [
    "def smooth_curve(points, factor=0.1):\n",
    "    smoothed_points = []\n",
    "    for point in points:\n",
    "        if smoothed_points:\n",
    "            pre = smoothed_points[-1]\n",
    "            smoothed_points.append(pre * (1-factor) + point * factor)\n",
    "        else:\n",
    "            smoothed_points.append(point)\n",
    "    return smoothed_points"
   ]
  },
  {
   "cell_type": "code",
   "execution_count": 19,
   "metadata": {},
   "outputs": [
    {
     "data": {
      "image/png": "[encoded data removed]",
      "text/plain": [
       "<Figure size 432x288 with 1 Axes>"
      ]
     },
     "metadata": {
      "needs_background": "light"
     },
     "output_type": "display_data"
    }
   ],
   "source": [
    "smoothed_mae = smooth_curve(mean_all_scores[10:])\n",
    "\n",
    "plt.plot(range(1, len(smoothed_mae)+1), smoothed_mae)\n",
    "plt.xlabel('Epochs')\n",
    "plt.ylabel('Validation MAE');"
   ]
  },
  {
   "cell_type": "markdown",
   "metadata": {},
   "source": [
    "- 최종 모델"
   ]
  },
  {
   "cell_type": "code",
   "execution_count": 20,
   "metadata": {},
   "outputs": [
    {
     "name": "stdout",
     "output_type": "stream",
     "text": [
      "Epoch 1/80\n",
      "26/26 [==============================] - 0s 3ms/step - loss: 568.3090 - mae: 22.0745\n",
      "Epoch 2/80\n",
      "26/26 [==============================] - 0s 3ms/step - loss: 379.5851 - mae: 17.4988\n",
      "Epoch 3/80\n",
      "26/26 [==============================] - 0s 3ms/step - loss: 213.2382 - mae: 12.0822\n",
      "Epoch 4/80\n",
      "26/26 [==============================] - 0s 3ms/step - loss: 95.3034 - mae: 7.2484\n",
      "Epoch 5/80\n",
      "26/26 [==============================] - 0s 3ms/step - loss: 71.4740 - mae: 6.0245\n",
      "Epoch 6/80\n",
      "26/26 [==============================] - 0s 3ms/step - loss: 41.6978 - mae: 4.7345\n",
      "Epoch 7/80\n",
      "26/26 [==============================] - 0s 3ms/step - loss: 26.4638 - mae: 3.8658\n",
      "Epoch 8/80\n",
      "26/26 [==============================] - 0s 3ms/step - loss: 25.4185 - mae: 3.6144\n",
      "Epoch 9/80\n",
      "26/26 [==============================] - 0s 3ms/step - loss: 25.0057 - mae: 3.4391\n",
      "Epoch 10/80\n",
      "26/26 [==============================] - 0s 3ms/step - loss: 20.0132 - mae: 3.1231\n",
      "Epoch 11/80\n",
      "26/26 [==============================] - 0s 3ms/step - loss: 22.8468 - mae: 3.0809\n",
      "Epoch 12/80\n",
      "26/26 [==============================] - 0s 3ms/step - loss: 15.0104 - mae: 2.7801\n",
      "Epoch 13/80\n",
      "26/26 [==============================] - 0s 3ms/step - loss: 13.5051 - mae: 2.6940\n",
      "Epoch 14/80\n",
      "26/26 [==============================] - 0s 3ms/step - loss: 12.9144 - mae: 2.5581\n",
      "Epoch 15/80\n",
      "26/26 [==============================] - 0s 3ms/step - loss: 14.4870 - mae: 2.5648\n",
      "Epoch 16/80\n",
      "26/26 [==============================] - 0s 3ms/step - loss: 13.0456 - mae: 2.3626\n",
      "Epoch 17/80\n",
      "26/26 [==============================] - 0s 3ms/step - loss: 10.9018 - mae: 2.3934\n",
      "Epoch 18/80\n",
      "26/26 [==============================] - 0s 3ms/step - loss: 10.0836 - mae: 2.3592\n",
      "Epoch 19/80\n",
      "26/26 [==============================] - 0s 3ms/step - loss: 9.5530 - mae: 2.1624\n",
      "Epoch 20/80\n",
      "26/26 [==============================] - 0s 3ms/step - loss: 13.1595 - mae: 2.4448\n",
      "Epoch 21/80\n",
      "26/26 [==============================] - 0s 3ms/step - loss: 10.2369 - mae: 2.3150\n",
      "Epoch 22/80\n",
      "26/26 [==============================] - 0s 3ms/step - loss: 10.8275 - mae: 2.2973\n",
      "Epoch 23/80\n",
      "26/26 [==============================] - 0s 3ms/step - loss: 9.9647 - mae: 2.1620\n",
      "Epoch 24/80\n",
      "26/26 [==============================] - 0s 3ms/step - loss: 10.4437 - mae: 2.2011\n",
      "Epoch 25/80\n",
      "26/26 [==============================] - 0s 3ms/step - loss: 7.8665 - mae: 2.0767\n",
      "Epoch 26/80\n",
      "26/26 [==============================] - 0s 3ms/step - loss: 9.7909 - mae: 2.1655\n",
      "Epoch 27/80\n",
      "26/26 [==============================] - 0s 3ms/step - loss: 8.5690 - mae: 2.1163\n",
      "Epoch 28/80\n",
      "26/26 [==============================] - 0s 3ms/step - loss: 8.1188 - mae: 2.0778\n",
      "Epoch 29/80\n",
      "26/26 [==============================] - 0s 3ms/step - loss: 9.9958 - mae: 2.1760\n",
      "Epoch 30/80\n",
      "26/26 [==============================] - 0s 3ms/step - loss: 10.4215 - mae: 2.1600\n",
      "Epoch 31/80\n",
      "26/26 [==============================] - 0s 3ms/step - loss: 8.0545 - mae: 2.0401\n",
      "Epoch 32/80\n",
      "26/26 [==============================] - 0s 3ms/step - loss: 7.5420 - mae: 2.0065\n",
      "Epoch 33/80\n",
      "26/26 [==============================] - 0s 3ms/step - loss: 7.9023 - mae: 2.0123\n",
      "Epoch 34/80\n",
      "26/26 [==============================] - 0s 3ms/step - loss: 7.7300 - mae: 2.0021\n",
      "Epoch 35/80\n",
      "26/26 [==============================] - 0s 3ms/step - loss: 9.0565 - mae: 2.0824\n",
      "Epoch 36/80\n",
      "26/26 [==============================] - 0s 3ms/step - loss: 6.7385 - mae: 1.8539\n",
      "Epoch 37/80\n",
      "26/26 [==============================] - 0s 3ms/step - loss: 7.4319 - mae: 1.9284\n",
      "Epoch 38/80\n",
      "26/26 [==============================] - 0s 3ms/step - loss: 8.2340 - mae: 2.0657\n",
      "Epoch 39/80\n",
      "26/26 [==============================] - 0s 3ms/step - loss: 8.9604 - mae: 2.0751\n",
      "Epoch 40/80\n",
      "26/26 [==============================] - 0s 3ms/step - loss: 8.9000 - mae: 2.1064\n",
      "Epoch 41/80\n",
      "26/26 [==============================] - 0s 3ms/step - loss: 7.1764 - mae: 1.9561\n",
      "Epoch 42/80\n",
      "26/26 [==============================] - 0s 3ms/step - loss: 8.1644 - mae: 1.9824\n",
      "Epoch 43/80\n",
      "26/26 [==============================] - 0s 3ms/step - loss: 6.3101 - mae: 1.8127\n",
      "Epoch 44/80\n",
      "26/26 [==============================] - 0s 3ms/step - loss: 8.8831 - mae: 2.1074\n",
      "Epoch 45/80\n",
      "26/26 [==============================] - 0s 3ms/step - loss: 7.9642 - mae: 1.9568\n",
      "Epoch 46/80\n",
      "26/26 [==============================] - 0s 3ms/step - loss: 9.2443 - mae: 2.0638\n",
      "Epoch 47/80\n",
      "26/26 [==============================] - 0s 3ms/step - loss: 8.6162 - mae: 1.9963\n",
      "Epoch 48/80\n",
      "26/26 [==============================] - 0s 3ms/step - loss: 6.1301 - mae: 1.8039\n",
      "Epoch 49/80\n",
      "26/26 [==============================] - 0s 3ms/step - loss: 8.1417 - mae: 2.0172\n",
      "Epoch 50/80\n",
      "26/26 [==============================] - 0s 3ms/step - loss: 10.0511 - mae: 2.1213\n",
      "Epoch 51/80\n",
      "26/26 [==============================] - 0s 3ms/step - loss: 6.8751 - mae: 1.9040\n",
      "Epoch 52/80\n",
      "26/26 [==============================] - 0s 3ms/step - loss: 7.6321 - mae: 1.9127\n",
      "Epoch 53/80\n",
      "26/26 [==============================] - 0s 3ms/step - loss: 6.8482 - mae: 1.9162\n",
      "Epoch 54/80\n",
      "26/26 [==============================] - 0s 3ms/step - loss: 6.0351 - mae: 1.7514\n",
      "Epoch 55/80\n",
      "26/26 [==============================] - 0s 3ms/step - loss: 6.7750 - mae: 1.9390\n",
      "Epoch 56/80\n",
      "26/26 [==============================] - 0s 3ms/step - loss: 5.9201 - mae: 1.7677\n",
      "Epoch 57/80\n",
      "26/26 [==============================] - 0s 3ms/step - loss: 7.0065 - mae: 1.8683\n",
      "Epoch 58/80\n",
      "26/26 [==============================] - 0s 3ms/step - loss: 7.3283 - mae: 1.8790\n",
      "Epoch 59/80\n",
      "26/26 [==============================] - 0s 3ms/step - loss: 8.1216 - mae: 1.9354\n",
      "Epoch 60/80\n",
      "26/26 [==============================] - 0s 3ms/step - loss: 6.7180 - mae: 1.9002\n",
      "Epoch 61/80\n",
      "26/26 [==============================] - 0s 3ms/step - loss: 5.6771 - mae: 1.7439\n",
      "Epoch 62/80\n",
      "26/26 [==============================] - 0s 3ms/step - loss: 5.9725 - mae: 1.8261\n",
      "Epoch 63/80\n",
      "26/26 [==============================] - 0s 3ms/step - loss: 7.8635 - mae: 1.7911\n",
      "Epoch 64/80\n",
      "26/26 [==============================] - 0s 3ms/step - loss: 5.6933 - mae: 1.7711\n",
      "Epoch 65/80\n",
      "26/26 [==============================] - 0s 3ms/step - loss: 7.2923 - mae: 1.9667\n",
      "Epoch 66/80\n",
      "26/26 [==============================] - 0s 3ms/step - loss: 7.3255 - mae: 1.8375\n",
      "Epoch 67/80\n",
      "26/26 [==============================] - 0s 3ms/step - loss: 6.6907 - mae: 1.8038\n",
      "Epoch 68/80\n",
      "26/26 [==============================] - 0s 3ms/step - loss: 6.0024 - mae: 1.7743\n",
      "Epoch 69/80\n",
      "26/26 [==============================] - 0s 3ms/step - loss: 5.9320 - mae: 1.6900\n",
      "Epoch 70/80\n",
      "26/26 [==============================] - 0s 3ms/step - loss: 5.5735 - mae: 1.6878\n",
      "Epoch 71/80\n",
      "26/26 [==============================] - 0s 3ms/step - loss: 5.9763 - mae: 1.7477\n",
      "Epoch 72/80\n",
      "26/26 [==============================] - 0s 3ms/step - loss: 5.9235 - mae: 1.7670\n",
      "Epoch 73/80\n",
      "26/26 [==============================] - 0s 3ms/step - loss: 7.3941 - mae: 1.7469\n",
      "Epoch 74/80\n",
      "26/26 [==============================] - 0s 3ms/step - loss: 5.4452 - mae: 1.7678\n",
      "Epoch 75/80\n",
      "26/26 [==============================] - 0s 3ms/step - loss: 5.3312 - mae: 1.5959\n",
      "Epoch 76/80\n",
      "26/26 [==============================] - 0s 3ms/step - loss: 9.2447 - mae: 2.0189\n",
      "Epoch 77/80\n",
      "26/26 [==============================] - 0s 3ms/step - loss: 6.1608 - mae: 1.7688\n",
      "Epoch 78/80\n",
      "26/26 [==============================] - 0s 3ms/step - loss: 5.5805 - mae: 1.6721\n",
      "Epoch 79/80\n",
      "26/26 [==============================] - 0s 3ms/step - loss: 6.7892 - mae: 1.8659\n",
      "Epoch 80/80\n",
      "26/26 [==============================] - 0s 3ms/step - loss: 10.0955 - mae: 2.0448\n"
     ]
    },
    {
     "data": {
      "text/plain": [
       "<tensorflow.python.keras.callbacks.History at 0x219e5bd59a0>"
      ]
     },
     "execution_count": 20,
     "metadata": {},
     "output_type": "execute_result"
    }
   ],
   "source": [
    "model = build_model()\n",
    "model.fit(x_train, y_train, epochs=80, batch_size=16)"
   ]
  },
  {
   "cell_type": "code",
   "execution_count": 21,
   "metadata": {},
   "outputs": [
    {
     "name": "stdout",
     "output_type": "stream",
     "text": [
      "4/4 [==============================] - 0s 2ms/step - loss: 14.7820 - mae: 2.6687\n"
     ]
    },
    {
     "data": {
      "text/plain": [
       "[14.782025337219238, 2.6687188148498535]"
      ]
     },
     "execution_count": 21,
     "metadata": {},
     "output_type": "execute_result"
    }
   ],
   "source": [
    "results = model.evaluate(x_test, y_test)\n",
    "results"
   ]
  }
 ],
 "metadata": {
  "kernelspec": {
   "display_name": "Python 3",
   "language": "python",
   "name": "python3"
  },
  "language_info": {
   "codemirror_mode": {
    "name": "ipython",
    "version": 3
   },
   "file_extension": ".py",
   "mimetype": "text/x-python",
   "name": "python",
   "nbconvert_exporter": "python",
   "pygments_lexer": "ipython3",
   "version": "3.7.9"
  }
 },
 "nbformat": 4,
 "nbformat_minor": 4
}
