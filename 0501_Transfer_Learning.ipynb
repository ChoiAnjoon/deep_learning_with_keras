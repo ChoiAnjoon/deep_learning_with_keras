{
 "cells": [
  {
   "cell_type": "markdown",
   "metadata": {},
   "source": [
    "# CAT Vs Dog"
   ]
  },
  {
   "cell_type": "markdown",
   "metadata": {},
   "source": [
    "## 3. 전이학습"
   ]
  },
  {
   "cell_type": "markdown",
   "metadata": {},
   "source": [
    "- VGG16 살펴보기"
   ]
  },
  {
   "cell_type": "code",
   "execution_count": 21,
   "metadata": {},
   "outputs": [],
   "source": [
    "from tensorflow.keras.applications import VGG16\n",
    "\n",
    "conv_base = VGG16(weights='imagenet', include_top=False, input_shape=(150,150,3))"
   ]
  },
  {
   "cell_type": "code",
   "execution_count": 22,
   "metadata": {},
   "outputs": [
    {
     "name": "stdout",
     "output_type": "stream",
     "text": [
      "Model: \"vgg16\"\n",
      "_________________________________________________________________\n",
      "Layer (type)                 Output Shape              Param #   \n",
      "=================================================================\n",
      "input_2 (InputLayer)         [(None, 150, 150, 3)]     0         \n",
      "_________________________________________________________________\n",
      "block1_conv1 (Conv2D)        (None, 150, 150, 64)      1792      \n",
      "_________________________________________________________________\n",
      "block1_conv2 (Conv2D)        (None, 150, 150, 64)      36928     \n",
      "_________________________________________________________________\n",
      "block1_pool (MaxPooling2D)   (None, 75, 75, 64)        0         \n",
      "_________________________________________________________________\n",
      "block2_conv1 (Conv2D)        (None, 75, 75, 128)       73856     \n",
      "_________________________________________________________________\n",
      "block2_conv2 (Conv2D)        (None, 75, 75, 128)       147584    \n",
      "_________________________________________________________________\n",
      "block2_pool (MaxPooling2D)   (None, 37, 37, 128)       0         \n",
      "_________________________________________________________________\n",
      "block3_conv1 (Conv2D)        (None, 37, 37, 256)       295168    \n",
      "_________________________________________________________________\n",
      "block3_conv2 (Conv2D)        (None, 37, 37, 256)       590080    \n",
      "_________________________________________________________________\n",
      "block3_conv3 (Conv2D)        (None, 37, 37, 256)       590080    \n",
      "_________________________________________________________________\n",
      "block3_pool (MaxPooling2D)   (None, 18, 18, 256)       0         \n",
      "_________________________________________________________________\n",
      "block4_conv1 (Conv2D)        (None, 18, 18, 512)       1180160   \n",
      "_________________________________________________________________\n",
      "block4_conv2 (Conv2D)        (None, 18, 18, 512)       2359808   \n",
      "_________________________________________________________________\n",
      "block4_conv3 (Conv2D)        (None, 18, 18, 512)       2359808   \n",
      "_________________________________________________________________\n",
      "block4_pool (MaxPooling2D)   (None, 9, 9, 512)         0         \n",
      "_________________________________________________________________\n",
      "block5_conv1 (Conv2D)        (None, 9, 9, 512)         2359808   \n",
      "_________________________________________________________________\n",
      "block5_conv2 (Conv2D)        (None, 9, 9, 512)         2359808   \n",
      "_________________________________________________________________\n",
      "block5_conv3 (Conv2D)        (None, 9, 9, 512)         2359808   \n",
      "_________________________________________________________________\n",
      "block5_pool (MaxPooling2D)   (None, 4, 4, 512)         0         \n",
      "=================================================================\n",
      "Total params: 14,714,688\n",
      "Trainable params: 14,714,688\n",
      "Non-trainable params: 0\n",
      "_________________________________________________________________\n"
     ]
    }
   ],
   "source": [
    "conv_base.summary()"
   ]
  },
  {
   "cell_type": "markdown",
   "metadata": {},
   "source": [
    "### 3.1. 데이터 증식을 사용하지 않은 특성 추출"
   ]
  },
  {
   "cell_type": "markdown",
   "metadata": {},
   "source": [
    "- 데이터 준비"
   ]
  },
  {
   "cell_type": "code",
   "execution_count": 3,
   "metadata": {},
   "outputs": [
    {
     "name": "stdout",
     "output_type": "stream",
     "text": [
      "Found 2000 images belonging to 2 classes.\n",
      "Found 1000 images belonging to 2 classes.\n",
      "Found 1000 images belonging to 2 classes.\n"
     ]
    }
   ],
   "source": [
    "import numpy as np\n",
    "from tensorflow.keras.preprocessing.image import ImageDataGenerator\n",
    "\n",
    "train_dir = 'data/cats_and_dogs/train'\n",
    "validation_dir = 'data/cats_and_dogs/validation'\n",
    "test_dir = 'data/cats_and_dogs/test'\n",
    "\n",
    "datagen = ImageDataGenerator(rescale=1./255) \n",
    "batch_size = 20\n",
    "\n",
    "# 150, 150, 3\n",
    "def extract_features(directory, sample_count):\n",
    "    features = np.zeros(shape=(sample_count, 4, 4, 512))\n",
    "    labels = np.zeros(shape=(sample_count))\n",
    "    generator = datagen.flow_from_directory(\n",
    "        directory,\n",
    "        target_size=(150, 150),\n",
    "        batch_size=batch_size,\n",
    "        class_mode='binary')\n",
    "    i = 0\n",
    "    for inputs_batch, labels_batch in generator:\n",
    "        features_batch = conv_base.predict(inputs_batch)\n",
    "        features[i * batch_size : (i + 1) * batch_size] = features_batch\n",
    "        labels[i * batch_size : (i + 1) * batch_size] = labels_batch\n",
    "        i += 1\n",
    "        if i * batch_size >= sample_count:\n",
    "            break\n",
    "    return features, labels\n",
    "\n",
    "train_features, train_labels = extract_features(train_dir, 2000)\n",
    "validation_features, validation_labels = extract_features(validation_dir, 1000)\n",
    "test_features, test_labels = extract_features(test_dir, 1000)"
   ]
  },
  {
   "cell_type": "code",
   "execution_count": 23,
   "metadata": {},
   "outputs": [],
   "source": [
    "train_features = np.reshape(train_features, (2000, 4 * 4 * 512))\n",
    "validation_features = np.reshape(validation_features, (1000, 4 * 4 * 512))\n",
    "test_features = np.reshape(test_features, (1000, 4 * 4 * 512))"
   ]
  },
  {
   "cell_type": "markdown",
   "metadata": {},
   "source": [
    "- 모델 정의/컴파일/학습"
   ]
  },
  {
   "cell_type": "code",
   "execution_count": 24,
   "metadata": {},
   "outputs": [
    {
     "name": "stdout",
     "output_type": "stream",
     "text": [
      "Epoch 1/30\n",
      "100/100 [==============================] - 1s 5ms/step - loss: 0.6626 - acc: 0.6108 - val_loss: 0.4522 - val_acc: 0.8440\n",
      "Epoch 2/30\n",
      "100/100 [==============================] - 0s 4ms/step - loss: 0.4450 - acc: 0.8058 - val_loss: 0.3694 - val_acc: 0.8600\n",
      "Epoch 3/30\n",
      "100/100 [==============================] - 0s 5ms/step - loss: 0.3708 - acc: 0.8449 - val_loss: 0.3315 - val_acc: 0.8680\n",
      "Epoch 4/30\n",
      "100/100 [==============================] - 0s 4ms/step - loss: 0.3388 - acc: 0.8531 - val_loss: 0.3053 - val_acc: 0.8780\n",
      "Epoch 5/30\n",
      "100/100 [==============================] - 0s 4ms/step - loss: 0.2911 - acc: 0.8833 - val_loss: 0.2937 - val_acc: 0.8800\n",
      "Epoch 6/30\n",
      "100/100 [==============================] - 0s 5ms/step - loss: 0.2907 - acc: 0.8783 - val_loss: 0.2803 - val_acc: 0.8910\n",
      "Epoch 7/30\n",
      "100/100 [==============================] - 0s 4ms/step - loss: 0.2355 - acc: 0.9060 - val_loss: 0.2723 - val_acc: 0.8880\n",
      "Epoch 8/30\n",
      "100/100 [==============================] - 0s 4ms/step - loss: 0.2215 - acc: 0.9130 - val_loss: 0.2655 - val_acc: 0.8920\n",
      "Epoch 9/30\n",
      "100/100 [==============================] - 0s 5ms/step - loss: 0.2302 - acc: 0.9119 - val_loss: 0.2603 - val_acc: 0.8920\n",
      "Epoch 10/30\n",
      "100/100 [==============================] - 0s 5ms/step - loss: 0.2152 - acc: 0.9207 - val_loss: 0.2540 - val_acc: 0.9000\n",
      "Epoch 11/30\n",
      "100/100 [==============================] - 0s 5ms/step - loss: 0.1961 - acc: 0.9341 - val_loss: 0.2496 - val_acc: 0.8980\n",
      "Epoch 12/30\n",
      "100/100 [==============================] - 0s 5ms/step - loss: 0.1937 - acc: 0.9228 - val_loss: 0.2504 - val_acc: 0.8970\n",
      "Epoch 13/30\n",
      "100/100 [==============================] - 0s 5ms/step - loss: 0.1840 - acc: 0.9361 - val_loss: 0.2534 - val_acc: 0.8960\n",
      "Epoch 14/30\n",
      "100/100 [==============================] - 0s 5ms/step - loss: 0.1712 - acc: 0.9358 - val_loss: 0.2421 - val_acc: 0.9030\n",
      "Epoch 15/30\n",
      "100/100 [==============================] - 0s 4ms/step - loss: 0.1624 - acc: 0.9407 - val_loss: 0.2414 - val_acc: 0.9020\n",
      "Epoch 16/30\n",
      "100/100 [==============================] - 0s 4ms/step - loss: 0.1471 - acc: 0.9452 - val_loss: 0.2412 - val_acc: 0.9020\n",
      "Epoch 17/30\n",
      "100/100 [==============================] - 0s 4ms/step - loss: 0.1394 - acc: 0.9594 - val_loss: 0.2382 - val_acc: 0.9020\n",
      "Epoch 18/30\n",
      "100/100 [==============================] - 0s 4ms/step - loss: 0.1340 - acc: 0.9594 - val_loss: 0.2381 - val_acc: 0.9020\n",
      "Epoch 19/30\n",
      "100/100 [==============================] - 0s 4ms/step - loss: 0.1338 - acc: 0.9539 - val_loss: 0.2398 - val_acc: 0.9030\n",
      "Epoch 20/30\n",
      "100/100 [==============================] - 0s 4ms/step - loss: 0.1419 - acc: 0.9432 - val_loss: 0.2393 - val_acc: 0.9020\n",
      "Epoch 21/30\n",
      "100/100 [==============================] - 0s 4ms/step - loss: 0.1256 - acc: 0.9530 - val_loss: 0.2533 - val_acc: 0.8980\n",
      "Epoch 22/30\n",
      "100/100 [==============================] - 0s 4ms/step - loss: 0.1400 - acc: 0.9472 - val_loss: 0.2429 - val_acc: 0.9030\n",
      "Epoch 23/30\n",
      "100/100 [==============================] - 0s 4ms/step - loss: 0.1156 - acc: 0.9617 - val_loss: 0.2446 - val_acc: 0.9050\n",
      "Epoch 24/30\n",
      "100/100 [==============================] - 0s 5ms/step - loss: 0.1136 - acc: 0.9621 - val_loss: 0.2415 - val_acc: 0.9040\n",
      "Epoch 25/30\n",
      "100/100 [==============================] - 0s 4ms/step - loss: 0.1102 - acc: 0.9678 - val_loss: 0.2483 - val_acc: 0.9030\n",
      "Epoch 26/30\n",
      "100/100 [==============================] - 0s 4ms/step - loss: 0.0922 - acc: 0.9713 - val_loss: 0.2495 - val_acc: 0.9020\n",
      "Epoch 27/30\n",
      "100/100 [==============================] - 0s 4ms/step - loss: 0.1071 - acc: 0.9545 - val_loss: 0.2409 - val_acc: 0.9000\n",
      "Epoch 28/30\n",
      "100/100 [==============================] - 0s 4ms/step - loss: 0.1030 - acc: 0.9657 - val_loss: 0.2535 - val_acc: 0.9030\n",
      "Epoch 29/30\n",
      "100/100 [==============================] - 0s 4ms/step - loss: 0.0919 - acc: 0.9700 - val_loss: 0.2460 - val_acc: 0.9020\n",
      "Epoch 30/30\n",
      "100/100 [==============================] - 0s 4ms/step - loss: 0.0935 - acc: 0.9707 - val_loss: 0.2450 - val_acc: 0.9020\n"
     ]
    }
   ],
   "source": [
    "from tensorflow.keras.models import Sequential\n",
    "from tensorflow.keras.layers import Dense, Dropout\n",
    "from tensorflow.keras import optimizers\n",
    "\n",
    "model = Sequential()\n",
    "model.add(Dense(256, activation='relu', input_dim=4 * 4 * 512))\n",
    "model.add(Dropout(0.5))\n",
    "model.add(Dense(1, activation='sigmoid'))\n",
    "\n",
    "model.compile(optimizer=optimizers.RMSprop(lr=0.00002),\n",
    "              loss='binary_crossentropy',\n",
    "              metrics=['acc'])\n",
    "\n",
    "history = model.fit(train_features, train_labels,\n",
    "                    epochs=30,\n",
    "                    batch_size=20,\n",
    "                    validation_data=(validation_features, validation_labels))"
   ]
  },
  {
   "cell_type": "markdown",
   "metadata": {},
   "source": [
    "- 성능평가 시각화"
   ]
  },
  {
   "cell_type": "code",
   "execution_count": 6,
   "metadata": {},
   "outputs": [
    {
     "data": {
      "image/png": "[encoded data removed]",
      "text/plain": [
       "<Figure size 432x288 with 1 Axes>"
      ]
     },
     "metadata": {
      "needs_background": "light"
     },
     "output_type": "display_data"
    },
    {
     "data": {
      "image/png": "[encoded data removed]",
      "text/plain": [
       "<Figure size 432x288 with 1 Axes>"
      ]
     },
     "metadata": {
      "needs_background": "light"
     },
     "output_type": "display_data"
    }
   ],
   "source": [
    "import matplotlib.pyplot as plt\n",
    "\n",
    "acc = history.history['acc']\n",
    "val_acc = history.history['val_acc']\n",
    "loss = history.history['loss']\n",
    "val_loss = history.history['val_loss']\n",
    "\n",
    "epochs = range(len(acc))\n",
    "\n",
    "plt.plot(epochs, acc, 'bo', label='Training acc')\n",
    "plt.plot(epochs, val_acc, 'b', label='Validation acc')\n",
    "plt.title('Training and validation accuracy')\n",
    "plt.legend()\n",
    "\n",
    "plt.figure()\n",
    "\n",
    "plt.plot(epochs, loss, 'bo', label='Training loss')\n",
    "plt.plot(epochs, val_loss, 'b', label='Validation loss')\n",
    "plt.title('Training and validation loss')\n",
    "plt.legend()\n",
    "\n",
    "plt.show()"
   ]
  },
  {
   "cell_type": "markdown",
   "metadata": {},
   "source": [
    "### 3.2. 데이터 증식을 사용한 특성 추출"
   ]
  },
  {
   "cell_type": "markdown",
   "metadata": {},
   "source": [
    "- 엔드투엔드 모델 정의"
   ]
  },
  {
   "cell_type": "code",
   "execution_count": 26,
   "metadata": {},
   "outputs": [
    {
     "name": "stdout",
     "output_type": "stream",
     "text": [
      "Model: \"sequential_4\"\n",
      "_________________________________________________________________\n",
      "Layer (type)                 Output Shape              Param #   \n",
      "=================================================================\n",
      "vgg16 (Functional)           (None, 4, 4, 512)         14714688  \n",
      "_________________________________________________________________\n",
      "flatten_2 (Flatten)          (None, 8192)              0         \n",
      "_________________________________________________________________\n",
      "dense_7 (Dense)              (None, 256)               2097408   \n",
      "_________________________________________________________________\n",
      "dropout_2 (Dropout)          (None, 256)               0         \n",
      "_________________________________________________________________\n",
      "dense_8 (Dense)              (None, 1)                 257       \n",
      "=================================================================\n",
      "Total params: 16,812,353\n",
      "Trainable params: 16,812,353\n",
      "Non-trainable params: 0\n",
      "_________________________________________________________________\n"
     ]
    }
   ],
   "source": [
    "from tensorflow.keras.models import Sequential\n",
    "from tensorflow.keras.layers import Flatten, Dense, Dropout\n",
    "\n",
    "model = Sequential()\n",
    "model.add(conv_base)\n",
    "model.add(Flatten())\n",
    "model.add(Dense(256, activation='relu'))\n",
    "model.add(Dropout(0.5))\n",
    "model.add(Dense(1, activation='sigmoid'))\n",
    "model.summary()"
   ]
  },
  {
   "cell_type": "code",
   "execution_count": 27,
   "metadata": {},
   "outputs": [
    {
     "name": "stdout",
     "output_type": "stream",
     "text": [
      "conv_base를 동결하기 전 가중치의 수: 30\n",
      "conv_base를 동결한 후 가중치의 수: 4\n"
     ]
    }
   ],
   "source": [
    "print('conv_base를 동결하기 전 가중치의 수:', len(model.trainable_weights))\n",
    "conv_base.trainable = False # conv_base를 얼리는 코드 중요! (얘네는 학습하지마) \n",
    "print('conv_base를 동결한 후 가중치의 수:', len(model.trainable_weights))"
   ]
  },
  {
   "cell_type": "markdown",
   "metadata": {},
   "source": [
    "- 모델 학습"
   ]
  },
  {
   "cell_type": "code",
   "execution_count": 28,
   "metadata": {},
   "outputs": [
    {
     "name": "stdout",
     "output_type": "stream",
     "text": [
      "Found 2000 images belonging to 2 classes.\n",
      "Found 1000 images belonging to 2 classes.\n",
      "Epoch 1/30\n",
      "100/100 [==============================] - 10s 96ms/step - loss: 0.7293 - acc: 0.5517 - val_loss: 0.5620 - val_acc: 0.7340\n",
      "Epoch 2/30\n",
      "100/100 [==============================] - 9s 93ms/step - loss: 0.6670 - acc: 0.6144 - val_loss: 0.4847 - val_acc: 0.8130\n",
      "Epoch 3/30\n",
      "100/100 [==============================] - 9s 92ms/step - loss: 0.6071 - acc: 0.6537 - val_loss: 0.4544 - val_acc: 0.8110\n",
      "Epoch 4/30\n",
      "100/100 [==============================] - 9s 92ms/step - loss: 0.5720 - acc: 0.6940 - val_loss: 0.4341 - val_acc: 0.8060\n",
      "Epoch 5/30\n",
      "100/100 [==============================] - 9s 93ms/step - loss: 0.5547 - acc: 0.6940 - val_loss: 0.3878 - val_acc: 0.8640\n",
      "Epoch 6/30\n",
      "100/100 [==============================] - 9s 93ms/step - loss: 0.5274 - acc: 0.7471 - val_loss: 0.3666 - val_acc: 0.8720\n",
      "Epoch 7/30\n",
      "100/100 [==============================] - 9s 92ms/step - loss: 0.5128 - acc: 0.7491 - val_loss: 0.3656 - val_acc: 0.8520\n",
      "Epoch 8/30\n",
      "100/100 [==============================] - 9s 92ms/step - loss: 0.5200 - acc: 0.7315 - val_loss: 0.3442 - val_acc: 0.8760\n",
      "Epoch 9/30\n",
      "100/100 [==============================] - 9s 93ms/step - loss: 0.4899 - acc: 0.7565 - val_loss: 0.3369 - val_acc: 0.8700\n",
      "Epoch 10/30\n",
      "100/100 [==============================] - 9s 92ms/step - loss: 0.4576 - acc: 0.7908 - val_loss: 0.3253 - val_acc: 0.8780\n",
      "Epoch 11/30\n",
      "100/100 [==============================] - 9s 93ms/step - loss: 0.4841 - acc: 0.7658 - val_loss: 0.3180 - val_acc: 0.8770\n",
      "Epoch 12/30\n",
      "100/100 [==============================] - 9s 92ms/step - loss: 0.4817 - acc: 0.7538 - val_loss: 0.3209 - val_acc: 0.8750\n",
      "Epoch 13/30\n",
      "100/100 [==============================] - 9s 93ms/step - loss: 0.4720 - acc: 0.7558 - val_loss: 0.3095 - val_acc: 0.8730\n",
      "Epoch 14/30\n",
      "100/100 [==============================] - 9s 93ms/step - loss: 0.4741 - acc: 0.7794 - val_loss: 0.3019 - val_acc: 0.8800\n",
      "Epoch 15/30\n",
      "100/100 [==============================] - 9s 93ms/step - loss: 0.4490 - acc: 0.7988 - val_loss: 0.2972 - val_acc: 0.8840\n",
      "Epoch 16/30\n",
      "100/100 [==============================] - 9s 94ms/step - loss: 0.4541 - acc: 0.7900 - val_loss: 0.2969 - val_acc: 0.8810\n",
      "Epoch 17/30\n",
      "100/100 [==============================] - 9s 93ms/step - loss: 0.4400 - acc: 0.7966 - val_loss: 0.2940 - val_acc: 0.8880\n",
      "Epoch 18/30\n",
      "100/100 [==============================] - 9s 94ms/step - loss: 0.4632 - acc: 0.7874 - val_loss: 0.2919 - val_acc: 0.8800\n",
      "Epoch 19/30\n",
      "100/100 [==============================] - 9s 93ms/step - loss: 0.4573 - acc: 0.7901 - val_loss: 0.2868 - val_acc: 0.8850\n",
      "Epoch 20/30\n",
      "100/100 [==============================] - 9s 93ms/step - loss: 0.4408 - acc: 0.7990 - val_loss: 0.2850 - val_acc: 0.8900\n",
      "Epoch 21/30\n",
      "100/100 [==============================] - 9s 93ms/step - loss: 0.4171 - acc: 0.7988 - val_loss: 0.2810 - val_acc: 0.8870\n",
      "Epoch 22/30\n",
      "100/100 [==============================] - 9s 93ms/step - loss: 0.4472 - acc: 0.8059 - val_loss: 0.2818 - val_acc: 0.8850\n",
      "Epoch 23/30\n",
      "100/100 [==============================] - 9s 92ms/step - loss: 0.4519 - acc: 0.7727 - val_loss: 0.2847 - val_acc: 0.8790\n",
      "Epoch 24/30\n",
      "100/100 [==============================] - 9s 93ms/step - loss: 0.4192 - acc: 0.7980 - val_loss: 0.2785 - val_acc: 0.8840\n",
      "Epoch 25/30\n",
      "100/100 [==============================] - 9s 93ms/step - loss: 0.4183 - acc: 0.8063 - val_loss: 0.2748 - val_acc: 0.8850\n",
      "Epoch 26/30\n",
      "100/100 [==============================] - 9s 94ms/step - loss: 0.4395 - acc: 0.8011 - val_loss: 0.2741 - val_acc: 0.8890\n",
      "Epoch 27/30\n",
      "100/100 [==============================] - 9s 92ms/step - loss: 0.4206 - acc: 0.7941 - val_loss: 0.2726 - val_acc: 0.8870\n",
      "Epoch 28/30\n",
      "100/100 [==============================] - 9s 92ms/step - loss: 0.3974 - acc: 0.8299 - val_loss: 0.2779 - val_acc: 0.8820\n",
      "Epoch 29/30\n",
      "100/100 [==============================] - 9s 92ms/step - loss: 0.4418 - acc: 0.7932 - val_loss: 0.2707 - val_acc: 0.8900\n",
      "Epoch 30/30\n",
      "100/100 [==============================] - 9s 92ms/step - loss: 0.4425 - acc: 0.7861 - val_loss: 0.2711 - val_acc: 0.8860\n"
     ]
    }
   ],
   "source": [
    "from tensorflow.keras.preprocessing.image import ImageDataGenerator\n",
    "\n",
    "train_datagen = ImageDataGenerator(\n",
    "      rescale=1./255,\n",
    "      rotation_range=20,\n",
    "      width_shift_range=0.4,\n",
    "      height_shift_range=0.4,\n",
    "      shear_range=0.4,\n",
    "      zoom_range=0.4,\n",
    "      horizontal_flip=True,\n",
    "      fill_mode='nearest')\n",
    "\n",
    "test_datagen = ImageDataGenerator(rescale=1./255)\n",
    "\n",
    "train_generator = train_datagen.flow_from_directory(\n",
    "        train_dir,\n",
    "        target_size=(150, 150),\n",
    "        batch_size=20,\n",
    "        class_mode='binary')\n",
    "\n",
    "validation_generator = test_datagen.flow_from_directory(\n",
    "        validation_dir,\n",
    "        target_size=(150, 150),\n",
    "        batch_size=20,\n",
    "        class_mode='binary')\n",
    "\n",
    "model.compile(loss='binary_crossentropy',\n",
    "              optimizer=optimizers.RMSprop(lr=2e-5),\n",
    "              metrics=['acc'])\n",
    "\n",
    "history = model.fit(\n",
    "      train_generator,\n",
    "      steps_per_epoch=100,\n",
    "      epochs=30,\n",
    "      validation_data=validation_generator,\n",
    "      validation_steps=50)"
   ]
  },
  {
   "cell_type": "code",
   "execution_count": 29,
   "metadata": {},
   "outputs": [],
   "source": [
    "model.save('cats_and_dogs_small_3.h5')"
   ]
  },
  {
   "cell_type": "markdown",
   "metadata": {},
   "source": [
    "- 성능평가 시각화"
   ]
  },
  {
   "cell_type": "code",
   "execution_count": 12,
   "metadata": {},
   "outputs": [
    {
     "data": {
      "text/plain": [
       "<matplotlib.legend.Legend at 0x1b6a5d2f6d0>"
      ]
     },
     "execution_count": 12,
     "metadata": {},
     "output_type": "execute_result"
    },
    {
     "data": {
      "image/png": "[encoded data removed]",
      "text/plain": [
       "<Figure size 432x288 with 1 Axes>"
      ]
     },
     "metadata": {
      "needs_background": "light"
     },
     "output_type": "display_data"
    },
    {
     "data": {
      "image/png": "[encoded data removed]",
      "text/plain": [
       "<Figure size 432x288 with 1 Axes>"
      ]
     },
     "metadata": {
      "needs_background": "light"
     },
     "output_type": "display_data"
    }
   ],
   "source": [
    "import matplotlib.pyplot as plt\n",
    "%matplotlib inline\n",
    "\n",
    "acc = history.history['acc']\n",
    "val_acc = history.history['val_acc']\n",
    "loss = history.history['loss']\n",
    "val_loss = history.history['val_loss']\n",
    "\n",
    "epochs = range(len(acc))\n",
    "\n",
    "plt.plot(epochs, acc, 'bo', label='Training acc')\n",
    "plt.plot(epochs, val_acc, 'b', label='Validation acc')\n",
    "plt.title('Training and validation accuracy')\n",
    "plt.legend()\n",
    "\n",
    "plt.figure()\n",
    "\n",
    "plt.plot(epochs, loss, 'bo', label='Training loss')\n",
    "plt.plot(epochs, val_loss, 'b', label='Validation loss')\n",
    "plt.title('Training and validation loss')\n",
    "plt.legend()"
   ]
  },
  {
   "cell_type": "markdown",
   "metadata": {},
   "source": [
    "### 3.3. Fine Tuning"
   ]
  },
  {
   "cell_type": "markdown",
   "metadata": {},
   "source": [
    "- 특정 층까지만 동결하기"
   ]
  },
  {
   "cell_type": "code",
   "execution_count": 30,
   "metadata": {},
   "outputs": [
    {
     "data": {
      "text/plain": [
       "['input_2',\n",
       " 'block1_conv1',\n",
       " 'block1_conv2',\n",
       " 'block1_pool',\n",
       " 'block2_conv1',\n",
       " 'block2_conv2',\n",
       " 'block2_pool',\n",
       " 'block3_conv1',\n",
       " 'block3_conv2',\n",
       " 'block3_conv3',\n",
       " 'block3_pool',\n",
       " 'block4_conv1',\n",
       " 'block4_conv2',\n",
       " 'block4_conv3',\n",
       " 'block4_pool',\n",
       " 'block5_conv1',\n",
       " 'block5_conv2',\n",
       " 'block5_conv3',\n",
       " 'block5_pool']"
      ]
     },
     "execution_count": 30,
     "metadata": {},
     "output_type": "execute_result"
    }
   ],
   "source": [
    "[i.name for i in conv_base.layers]"
   ]
  },
  {
   "cell_type": "code",
   "execution_count": 32,
   "metadata": {},
   "outputs": [],
   "source": [
    "conv_base.trainable = True\n",
    "\n",
    "set_trainable = False\n",
    "for layer in conv_base.layers:\n",
    "    if layer.name == 'block5_conv1':\n",
    "        set_trainable = True\n",
    "    if set_trainable:\n",
    "        layer.trainable = True\n",
    "    else:\n",
    "        layer.trainable = False"
   ]
  },
  {
   "cell_type": "code",
   "execution_count": 33,
   "metadata": {},
   "outputs": [
    {
     "data": {
      "text/plain": [
       "[False,\n",
       " False,\n",
       " False,\n",
       " False,\n",
       " False,\n",
       " False,\n",
       " False,\n",
       " False,\n",
       " False,\n",
       " False,\n",
       " False,\n",
       " False,\n",
       " False,\n",
       " False,\n",
       " False,\n",
       " True,\n",
       " True,\n",
       " True,\n",
       " True]"
      ]
     },
     "execution_count": 33,
     "metadata": {},
     "output_type": "execute_result"
    }
   ],
   "source": [
    "[i.trainable for i in conv_base.layers]"
   ]
  },
  {
   "cell_type": "code",
   "execution_count": 16,
   "metadata": {},
   "outputs": [
    {
     "name": "stdout",
     "output_type": "stream",
     "text": [
      "Epoch 1/100\n",
      "100/100 [==============================] - 10s 92ms/step - loss: 0.2093 - acc: 0.9108 - val_loss: 0.2396 - val_acc: 0.9000\n",
      "Epoch 2/100\n",
      "100/100 [==============================] - 9s 91ms/step - loss: 0.1594 - acc: 0.9372 - val_loss: 0.2351 - val_acc: 0.9120\n",
      "Epoch 3/100\n",
      "100/100 [==============================] - 9s 91ms/step - loss: 0.1417 - acc: 0.9381 - val_loss: 0.2120 - val_acc: 0.9230\n",
      "Epoch 4/100\n",
      "100/100 [==============================] - 9s 89ms/step - loss: 0.1124 - acc: 0.9562 - val_loss: 0.2182 - val_acc: 0.9260\n",
      "Epoch 5/100\n",
      "100/100 [==============================] - 9s 90ms/step - loss: 0.0884 - acc: 0.9704 - val_loss: 0.2063 - val_acc: 0.9280\n",
      "Epoch 6/100\n",
      "100/100 [==============================] - 9s 89ms/step - loss: 0.0897 - acc: 0.9677 - val_loss: 0.2214 - val_acc: 0.9220\n",
      "Epoch 7/100\n",
      "100/100 [==============================] - 9s 89ms/step - loss: 0.0837 - acc: 0.9665 - val_loss: 0.2167 - val_acc: 0.9250\n",
      "Epoch 8/100\n",
      "100/100 [==============================] - 9s 89ms/step - loss: 0.0694 - acc: 0.9722 - val_loss: 0.2110 - val_acc: 0.9250\n",
      "Epoch 9/100\n",
      "100/100 [==============================] - 9s 91ms/step - loss: 0.0666 - acc: 0.9738 - val_loss: 0.2099 - val_acc: 0.9210\n",
      "Epoch 10/100\n",
      "100/100 [==============================] - 9s 91ms/step - loss: 0.0635 - acc: 0.9811 - val_loss: 0.2081 - val_acc: 0.9290\n",
      "Epoch 11/100\n",
      "100/100 [==============================] - 9s 90ms/step - loss: 0.0419 - acc: 0.9849 - val_loss: 0.2194 - val_acc: 0.9210\n",
      "Epoch 12/100\n",
      "100/100 [==============================] - 9s 91ms/step - loss: 0.0361 - acc: 0.9909 - val_loss: 0.2272 - val_acc: 0.9250\n",
      "Epoch 13/100\n",
      "100/100 [==============================] - 9s 93ms/step - loss: 0.0318 - acc: 0.9886 - val_loss: 0.2185 - val_acc: 0.9300\n",
      "Epoch 14/100\n",
      "100/100 [==============================] - 9s 91ms/step - loss: 0.0299 - acc: 0.9891 - val_loss: 0.2620 - val_acc: 0.9220\n",
      "Epoch 15/100\n",
      "100/100 [==============================] - 9s 93ms/step - loss: 0.0278 - acc: 0.9901 - val_loss: 0.2205 - val_acc: 0.9260\n",
      "Epoch 16/100\n",
      "100/100 [==============================] - 9s 91ms/step - loss: 0.0331 - acc: 0.9890 - val_loss: 0.2237 - val_acc: 0.9330\n",
      "Epoch 17/100\n",
      "100/100 [==============================] - 9s 91ms/step - loss: 0.0322 - acc: 0.9897 - val_loss: 0.2370 - val_acc: 0.9300\n",
      "Epoch 18/100\n",
      "100/100 [==============================] - 9s 91ms/step - loss: 0.0260 - acc: 0.9892 - val_loss: 0.2363 - val_acc: 0.9320\n",
      "Epoch 19/100\n",
      "100/100 [==============================] - 9s 91ms/step - loss: 0.0232 - acc: 0.9948 - val_loss: 0.2484 - val_acc: 0.9270\n",
      "Epoch 20/100\n",
      "100/100 [==============================] - 9s 90ms/step - loss: 0.0233 - acc: 0.9947 - val_loss: 0.2442 - val_acc: 0.9290\n",
      "Epoch 21/100\n",
      "100/100 [==============================] - 9s 90ms/step - loss: 0.0172 - acc: 0.9985 - val_loss: 0.2560 - val_acc: 0.9250\n",
      "Epoch 22/100\n",
      "100/100 [==============================] - 9s 90ms/step - loss: 0.0280 - acc: 0.9928 - val_loss: 0.2413 - val_acc: 0.9320\n",
      "Epoch 23/100\n",
      "100/100 [==============================] - 9s 91ms/step - loss: 0.0154 - acc: 0.9945 - val_loss: 0.2386 - val_acc: 0.9370\n",
      "Epoch 24/100\n",
      "100/100 [==============================] - 9s 90ms/step - loss: 0.0133 - acc: 0.9966 - val_loss: 0.3757 - val_acc: 0.9020\n",
      "Epoch 25/100\n",
      "100/100 [==============================] - 9s 90ms/step - loss: 0.0123 - acc: 0.9952 - val_loss: 0.2633 - val_acc: 0.9290\n",
      "Epoch 26/100\n",
      "100/100 [==============================] - 9s 89ms/step - loss: 0.0096 - acc: 0.9981 - val_loss: 0.2587 - val_acc: 0.9250\n",
      "Epoch 27/100\n",
      "100/100 [==============================] - 9s 89ms/step - loss: 0.0132 - acc: 0.9953 - val_loss: 0.2922 - val_acc: 0.9230\n",
      "Epoch 28/100\n",
      "100/100 [==============================] - 9s 90ms/step - loss: 0.0178 - acc: 0.9957 - val_loss: 0.2374 - val_acc: 0.9250\n",
      "Epoch 29/100\n",
      "100/100 [==============================] - 9s 90ms/step - loss: 0.0130 - acc: 0.9956 - val_loss: 0.2482 - val_acc: 0.9270\n",
      "Epoch 30/100\n",
      "100/100 [==============================] - 9s 90ms/step - loss: 0.0091 - acc: 0.9980 - val_loss: 0.2759 - val_acc: 0.9270\n",
      "Epoch 31/100\n",
      "100/100 [==============================] - 9s 90ms/step - loss: 0.0072 - acc: 0.9992 - val_loss: 0.2618 - val_acc: 0.9280\n",
      "Epoch 32/100\n",
      "100/100 [==============================] - 9s 91ms/step - loss: 0.0142 - acc: 0.9941 - val_loss: 0.3011 - val_acc: 0.9260\n",
      "Epoch 33/100\n",
      "100/100 [==============================] - 9s 92ms/step - loss: 0.0134 - acc: 0.9956 - val_loss: 0.2727 - val_acc: 0.9300\n",
      "Epoch 34/100\n",
      "100/100 [==============================] - 9s 92ms/step - loss: 0.0089 - acc: 0.9959 - val_loss: 0.2781 - val_acc: 0.9320\n",
      "Epoch 35/100\n",
      "100/100 [==============================] - 9s 90ms/step - loss: 0.0108 - acc: 0.9972 - val_loss: 0.2707 - val_acc: 0.9300\n",
      "Epoch 36/100\n",
      "100/100 [==============================] - 9s 90ms/step - loss: 0.0093 - acc: 0.9952 - val_loss: 0.2834 - val_acc: 0.9270\n",
      "Epoch 37/100\n",
      "100/100 [==============================] - 9s 90ms/step - loss: 0.0061 - acc: 0.9981 - val_loss: 0.2766 - val_acc: 0.9290\n",
      "Epoch 38/100\n",
      "100/100 [==============================] - 9s 90ms/step - loss: 0.0062 - acc: 0.9980 - val_loss: 0.2889 - val_acc: 0.9250\n",
      "Epoch 39/100\n",
      "100/100 [==============================] - 9s 89ms/step - loss: 0.0063 - acc: 0.9976 - val_loss: 0.3344 - val_acc: 0.9240\n",
      "Epoch 40/100\n",
      "100/100 [==============================] - 9s 90ms/step - loss: 0.0121 - acc: 0.9945 - val_loss: 0.2689 - val_acc: 0.9330\n",
      "Epoch 41/100\n",
      "100/100 [==============================] - 9s 89ms/step - loss: 0.0044 - acc: 0.9994 - val_loss: 0.2910 - val_acc: 0.9320\n",
      "Epoch 42/100\n",
      "100/100 [==============================] - 9s 90ms/step - loss: 0.0051 - acc: 0.9988 - val_loss: 0.2935 - val_acc: 0.9310\n",
      "Epoch 43/100\n",
      "100/100 [==============================] - 9s 90ms/step - loss: 0.0054 - acc: 0.9985 - val_loss: 0.2980 - val_acc: 0.9290\n",
      "Epoch 44/100\n",
      "100/100 [==============================] - 9s 90ms/step - loss: 0.0167 - acc: 0.9954 - val_loss: 0.3154 - val_acc: 0.9290\n",
      "Epoch 45/100\n",
      "100/100 [==============================] - 9s 90ms/step - loss: 0.0061 - acc: 0.9985 - val_loss: 0.3270 - val_acc: 0.9300\n",
      "Epoch 46/100\n",
      "100/100 [==============================] - 9s 89ms/step - loss: 0.0050 - acc: 0.9992 - val_loss: 0.3161 - val_acc: 0.9280\n",
      "Epoch 47/100\n",
      "100/100 [==============================] - 9s 89ms/step - loss: 0.0084 - acc: 0.9964 - val_loss: 0.3042 - val_acc: 0.9340\n",
      "Epoch 48/100\n",
      "100/100 [==============================] - 9s 90ms/step - loss: 0.0080 - acc: 0.9972 - val_loss: 0.2844 - val_acc: 0.9340\n",
      "Epoch 49/100\n",
      "100/100 [==============================] - 9s 89ms/step - loss: 0.0036 - acc: 0.9978 - val_loss: 0.3161 - val_acc: 0.9390\n",
      "Epoch 50/100\n",
      "100/100 [==============================] - 9s 90ms/step - loss: 0.0021 - acc: 0.9998 - val_loss: 0.2852 - val_acc: 0.9340\n",
      "Epoch 51/100\n",
      "100/100 [==============================] - 9s 90ms/step - loss: 0.0075 - acc: 0.9959 - val_loss: 0.2650 - val_acc: 0.9350\n",
      "Epoch 52/100\n",
      "100/100 [==============================] - 9s 90ms/step - loss: 0.0033 - acc: 0.9986 - val_loss: 0.2791 - val_acc: 0.9340\n",
      "Epoch 53/100\n",
      "100/100 [==============================] - 9s 90ms/step - loss: 0.0044 - acc: 0.9991 - val_loss: 0.2910 - val_acc: 0.9360\n",
      "Epoch 54/100\n",
      "100/100 [==============================] - 9s 90ms/step - loss: 0.0046 - acc: 0.9979 - val_loss: 0.4282 - val_acc: 0.9210\n",
      "Epoch 55/100\n",
      "100/100 [==============================] - 9s 90ms/step - loss: 0.0015 - acc: 0.9999 - val_loss: 0.3329 - val_acc: 0.9340\n",
      "Epoch 56/100\n",
      "100/100 [==============================] - 9s 90ms/step - loss: 0.0046 - acc: 0.9981 - val_loss: 0.3274 - val_acc: 0.9350\n",
      "Epoch 57/100\n",
      "100/100 [==============================] - 9s 90ms/step - loss: 0.0034 - acc: 0.9993 - val_loss: 0.3966 - val_acc: 0.9250\n",
      "Epoch 58/100\n",
      "100/100 [==============================] - 9s 89ms/step - loss: 0.0027 - acc: 0.9993 - val_loss: 0.3356 - val_acc: 0.9250\n",
      "Epoch 59/100\n",
      "100/100 [==============================] - 9s 90ms/step - loss: 0.0013 - acc: 1.0000 - val_loss: 0.3517 - val_acc: 0.9320\n",
      "Epoch 60/100\n",
      "100/100 [==============================] - 9s 91ms/step - loss: 0.0023 - acc: 0.9994 - val_loss: 0.3273 - val_acc: 0.9350\n",
      "Epoch 61/100\n",
      "100/100 [==============================] - 9s 91ms/step - loss: 0.0023 - acc: 0.9993 - val_loss: 0.6070 - val_acc: 0.9010\n",
      "Epoch 62/100\n",
      "100/100 [==============================] - 9s 91ms/step - loss: 0.0032 - acc: 0.9993 - val_loss: 0.3475 - val_acc: 0.9330\n",
      "Epoch 63/100\n",
      "100/100 [==============================] - 9s 91ms/step - loss: 0.0039 - acc: 0.9988 - val_loss: 0.3558 - val_acc: 0.9360\n",
      "Epoch 64/100\n",
      "100/100 [==============================] - 9s 91ms/step - loss: 0.0054 - acc: 0.9985 - val_loss: 0.3614 - val_acc: 0.9300\n",
      "Epoch 65/100\n",
      "100/100 [==============================] - 9s 90ms/step - loss: 0.0020 - acc: 0.9996 - val_loss: 0.3515 - val_acc: 0.9370\n",
      "Epoch 66/100\n",
      "100/100 [==============================] - 9s 90ms/step - loss: 0.0033 - acc: 0.9981 - val_loss: 0.3107 - val_acc: 0.9360\n",
      "Epoch 67/100\n",
      "100/100 [==============================] - 9s 90ms/step - loss: 0.0065 - acc: 0.9983 - val_loss: 0.3020 - val_acc: 0.9380\n",
      "Epoch 68/100\n",
      "100/100 [==============================] - 9s 91ms/step - loss: 0.0011 - acc: 1.0000 - val_loss: 0.3108 - val_acc: 0.9340\n",
      "Epoch 69/100\n",
      "100/100 [==============================] - 9s 90ms/step - loss: 0.0023 - acc: 0.9991 - val_loss: 0.3358 - val_acc: 0.9350\n",
      "Epoch 70/100\n",
      "100/100 [==============================] - 9s 90ms/step - loss: 0.0040 - acc: 0.9975 - val_loss: 0.3302 - val_acc: 0.9300\n",
      "Epoch 71/100\n",
      "100/100 [==============================] - 9s 91ms/step - loss: 0.0012 - acc: 0.9997 - val_loss: 0.3272 - val_acc: 0.9360\n",
      "Epoch 72/100\n",
      "100/100 [==============================] - 9s 89ms/step - loss: 0.0059 - acc: 0.9983 - val_loss: 0.3404 - val_acc: 0.9260\n",
      "Epoch 73/100\n",
      "100/100 [==============================] - 9s 90ms/step - loss: 0.0016 - acc: 0.9998 - val_loss: 0.3295 - val_acc: 0.9330\n",
      "Epoch 74/100\n",
      "100/100 [==============================] - 9s 90ms/step - loss: 0.0026 - acc: 0.9991 - val_loss: 0.3458 - val_acc: 0.9360\n",
      "Epoch 75/100\n",
      "100/100 [==============================] - 9s 90ms/step - loss: 9.0741e-04 - acc: 1.0000 - val_loss: 0.3369 - val_acc: 0.9330\n",
      "Epoch 76/100\n",
      "100/100 [==============================] - 9s 90ms/step - loss: 0.0021 - acc: 1.0000 - val_loss: 0.3640 - val_acc: 0.9360\n",
      "Epoch 77/100\n",
      "100/100 [==============================] - 9s 90ms/step - loss: 0.0090 - acc: 0.9971 - val_loss: 0.3796 - val_acc: 0.9340\n",
      "Epoch 78/100\n",
      "100/100 [==============================] - 9s 90ms/step - loss: 0.0026 - acc: 0.9992 - val_loss: 0.3751 - val_acc: 0.9390\n",
      "Epoch 79/100\n",
      "100/100 [==============================] - 9s 90ms/step - loss: 0.0062 - acc: 0.9970 - val_loss: 0.3910 - val_acc: 0.9270\n",
      "Epoch 80/100\n",
      "100/100 [==============================] - 9s 90ms/step - loss: 6.4266e-04 - acc: 0.9999 - val_loss: 0.3705 - val_acc: 0.9350\n",
      "Epoch 81/100\n",
      "100/100 [==============================] - 9s 92ms/step - loss: 0.0024 - acc: 0.9994 - val_loss: 0.3651 - val_acc: 0.9380\n",
      "Epoch 82/100\n",
      "100/100 [==============================] - 9s 90ms/step - loss: 0.0028 - acc: 0.9991 - val_loss: 0.3665 - val_acc: 0.9340\n",
      "Epoch 83/100\n",
      "100/100 [==============================] - 9s 89ms/step - loss: 0.0024 - acc: 0.9993 - val_loss: 0.3943 - val_acc: 0.9430\n",
      "Epoch 84/100\n",
      "100/100 [==============================] - 9s 90ms/step - loss: 0.0016 - acc: 0.9995 - val_loss: 0.4082 - val_acc: 0.9280\n",
      "Epoch 85/100\n",
      "100/100 [==============================] - 9s 89ms/step - loss: 7.9171e-04 - acc: 1.0000 - val_loss: 0.4237 - val_acc: 0.9280\n",
      "Epoch 86/100\n",
      "100/100 [==============================] - 9s 89ms/step - loss: 0.0013 - acc: 0.9992 - val_loss: 0.4096 - val_acc: 0.9310\n",
      "Epoch 87/100\n",
      "100/100 [==============================] - 9s 89ms/step - loss: 0.0023 - acc: 1.0000 - val_loss: 0.4257 - val_acc: 0.9330\n",
      "Epoch 88/100\n",
      "100/100 [==============================] - 9s 89ms/step - loss: 0.0011 - acc: 0.9999 - val_loss: 0.4427 - val_acc: 0.9360\n",
      "Epoch 89/100\n",
      "100/100 [==============================] - 9s 90ms/step - loss: 0.0029 - acc: 0.9987 - val_loss: 0.3841 - val_acc: 0.9320\n",
      "Epoch 90/100\n",
      "100/100 [==============================] - 9s 90ms/step - loss: 0.0028 - acc: 0.9988 - val_loss: 0.3988 - val_acc: 0.9300\n",
      "Epoch 91/100\n",
      "100/100 [==============================] - 9s 89ms/step - loss: 3.2190e-04 - acc: 0.9999 - val_loss: 0.4343 - val_acc: 0.9390\n",
      "Epoch 92/100\n",
      "100/100 [==============================] - 9s 90ms/step - loss: 0.0098 - acc: 0.9981 - val_loss: 0.4576 - val_acc: 0.9210\n",
      "Epoch 93/100\n",
      "100/100 [==============================] - 9s 90ms/step - loss: 2.6249e-04 - acc: 1.0000 - val_loss: 0.4367 - val_acc: 0.9370\n",
      "Epoch 94/100\n",
      "100/100 [==============================] - 9s 90ms/step - loss: 0.0109 - acc: 0.9953 - val_loss: 0.3830 - val_acc: 0.9340\n",
      "Epoch 95/100\n",
      "100/100 [==============================] - 9s 91ms/step - loss: 0.0030 - acc: 0.9983 - val_loss: 0.3856 - val_acc: 0.9260\n",
      "Epoch 96/100\n",
      "100/100 [==============================] - 10s 95ms/step - loss: 0.0021 - acc: 0.9994 - val_loss: 0.3679 - val_acc: 0.9350\n",
      "Epoch 97/100\n",
      "100/100 [==============================] - 9s 90ms/step - loss: 0.0056 - acc: 0.9985 - val_loss: 0.3762 - val_acc: 0.9330\n",
      "Epoch 98/100\n",
      "100/100 [==============================] - 9s 89ms/step - loss: 0.0014 - acc: 0.9999 - val_loss: 0.3891 - val_acc: 0.9300\n",
      "Epoch 99/100\n",
      "100/100 [==============================] - 9s 90ms/step - loss: 1.5224e-04 - acc: 1.0000 - val_loss: 0.4142 - val_acc: 0.9290\n",
      "Epoch 100/100\n",
      "100/100 [==============================] - 9s 90ms/step - loss: 1.5877e-04 - acc: 1.0000 - val_loss: 0.4501 - val_acc: 0.9280\n"
     ]
    }
   ],
   "source": [
    "\n",
    "\n",
    "model.compile(loss='binary_crossentropy',\n",
    "              optimizer=optimizers.RMSprop(lr=1e-5),\n",
    "              metrics=['acc'])\n",
    "\n",
    "history = model.fit(\n",
    "      train_generator,\n",
    "      steps_per_epoch=100,\n",
    "      epochs=100,\n",
    "      validation_data=validation_generator,\n",
    "      validation_steps=50)"
   ]
  },
  {
   "cell_type": "code",
   "execution_count": 17,
   "metadata": {},
   "outputs": [],
   "source": [
    "model.save('cats_and_dogs_small_4.h5')"
   ]
  },
  {
   "cell_type": "code",
   "execution_count": 18,
   "metadata": {},
   "outputs": [
    {
     "data": {
      "text/plain": [
       "<matplotlib.legend.Legend at 0x1b6b11e0370>"
      ]
     },
     "execution_count": 18,
     "metadata": {},
     "output_type": "execute_result"
    },
    {
     "data": {
      "image/png": "[encoded data removed]",
      "text/plain": [
       "<Figure size 432x288 with 1 Axes>"
      ]
     },
     "metadata": {
      "needs_background": "light"
     },
     "output_type": "display_data"
    },
    {
     "data": {
      "image/png": "[encoded data removed]",
      "text/plain": [
       "<Figure size 432x288 with 1 Axes>"
      ]
     },
     "metadata": {
      "needs_background": "light"
     },
     "output_type": "display_data"
    }
   ],
   "source": [
    "acc = history.history['acc']\n",
    "val_acc = history.history['val_acc']\n",
    "loss = history.history['loss']\n",
    "val_loss = history.history['val_loss']\n",
    "\n",
    "epochs = range(len(acc))\n",
    "\n",
    "plt.plot(epochs, acc, 'bo', label='Training acc')\n",
    "plt.plot(epochs, val_acc, 'b', label='Validation acc')\n",
    "plt.title('Training and validation accuracy')\n",
    "plt.legend()\n",
    "\n",
    "plt.figure()\n",
    "\n",
    "plt.plot(epochs, loss, 'bo', label='Training loss')\n",
    "plt.plot(epochs, val_loss, 'b', label='Validation loss')\n",
    "plt.title('Training and validation loss')\n",
    "plt.legend()"
   ]
  },
  {
   "cell_type": "code",
   "execution_count": 19,
   "metadata": {},
   "outputs": [
    {
     "data": {
      "text/plain": [
       "<matplotlib.legend.Legend at 0x1b6b13c68e0>"
      ]
     },
     "execution_count": 19,
     "metadata": {},
     "output_type": "execute_result"
    },
    {
     "data": {
      "image/png": "[encoded data removed]",
      "text/plain": [
       "<Figure size 432x288 with 1 Axes>"
      ]
     },
     "metadata": {
      "needs_background": "light"
     },
     "output_type": "display_data"
    },
    {
     "data": {
      "image/png": "[encoded data removed]",
      "text/plain": [
       "<Figure size 432x288 with 1 Axes>"
      ]
     },
     "metadata": {
      "needs_background": "light"
     },
     "output_type": "display_data"
    }
   ],
   "source": [
    "def smooth_curve(points, factor=0.8):\n",
    "  smoothed_points = []\n",
    "  for point in points:\n",
    "    if smoothed_points:\n",
    "      previous = smoothed_points[-1]\n",
    "      smoothed_points.append(previous * factor + point * (1 - factor))\n",
    "    else:\n",
    "      smoothed_points.append(point)\n",
    "  return smoothed_points\n",
    "\n",
    "plt.plot(epochs,\n",
    "         smooth_curve(acc), 'bo', label='Smoothed training acc')\n",
    "plt.plot(epochs,\n",
    "         smooth_curve(val_acc), 'b', label='Smoothed validation acc')\n",
    "plt.title('Training and validation accuracy')\n",
    "plt.legend()\n",
    "\n",
    "plt.figure()\n",
    "\n",
    "plt.plot(epochs,\n",
    "         smooth_curve(loss), 'bo', label='Smoothed training loss')\n",
    "plt.plot(epochs,\n",
    "         smooth_curve(val_loss), 'b', label='Smoothed validation loss')\n",
    "plt.title('Training and validation loss')\n",
    "plt.legend()"
   ]
  },
  {
   "cell_type": "code",
   "execution_count": 34,
   "metadata": {},
   "outputs": [
    {
     "name": "stdout",
     "output_type": "stream",
     "text": [
      "Found 1000 images belonging to 2 classes.\n",
      "50/50 [==============================] - 1s 23ms/step - loss: 0.2879 - acc: 0.8760\n",
      "test acc: 0.8759999871253967\n"
     ]
    }
   ],
   "source": [
    "test_generator = test_datagen.flow_from_directory(\n",
    "        test_dir,\n",
    "        target_size=(150, 150),\n",
    "        batch_size=20,\n",
    "        class_mode='binary')\n",
    "\n",
    "test_loss, test_acc = model.evaluate(test_generator, steps=50)\n",
    "print('test acc:', test_acc)"
   ]
  }
 ],
 "metadata": {
  "kernelspec": {
   "display_name": "Python 3",
   "language": "python",
   "name": "python3"
  },
  "language_info": {
   "codemirror_mode": {
    "name": "ipython",
    "version": 3
   },
   "file_extension": ".py",
   "mimetype": "text/x-python",
   "name": "python",
   "nbconvert_exporter": "python",
   "pygments_lexer": "ipython3",
   "version": "3.7.9"
  },
  "toc": {
   "base_numbering": 1,
   "nav_menu": {},
   "number_sections": true,
   "sideBar": true,
   "skip_h1_title": false,
   "title_cell": "Table of Contents",
   "title_sidebar": "Contents",
   "toc_cell": false,
   "toc_position": {},
   "toc_section_display": true,
   "toc_window_display": false
  },
  "varInspector": {
   "cols": {
    "lenName": 16,
    "lenType": 16,
    "lenVar": 40
   },
   "kernels_config": {
    "python": {
     "delete_cmd_postfix": "",
     "delete_cmd_prefix": "del ",
     "library": "var_list.py",
     "varRefreshCmd": "print(var_dic_list())"
    },
    "r": {
     "delete_cmd_postfix": ") ",
     "delete_cmd_prefix": "rm(",
     "library": "var_list.r",
     "varRefreshCmd": "cat(var_dic_list()) "
    }
   },
   "types_to_exclude": [
    "module",
    "function",
    "builtin_function_or_method",
    "instance",
    "_Feature"
   ],
   "window_display": false
  }
 },
 "nbformat": 4,
 "nbformat_minor": 2
}
