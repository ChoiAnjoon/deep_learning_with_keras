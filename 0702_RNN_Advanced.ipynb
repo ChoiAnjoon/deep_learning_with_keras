{
 "cells": [
  {
   "cell_type": "code",
   "execution_count": 1,
   "metadata": {},
   "outputs": [
    {
     "data": {
      "text/html": [
       "<div>\n",
       "<style scoped>\n",
       "    .dataframe tbody tr th:only-of-type {\n",
       "        vertical-align: middle;\n",
       "    }\n",
       "\n",
       "    .dataframe tbody tr th {\n",
       "        vertical-align: top;\n",
       "    }\n",
       "\n",
       "    .dataframe thead th {\n",
       "        text-align: right;\n",
       "    }\n",
       "</style>\n",
       "<table border=\"1\" class=\"dataframe\">\n",
       "  <thead>\n",
       "    <tr style=\"text-align: right;\">\n",
       "      <th></th>\n",
       "      <th>Date Time</th>\n",
       "      <th>p (mbar)</th>\n",
       "      <th>T (degC)</th>\n",
       "      <th>Tpot (K)</th>\n",
       "      <th>Tdew (degC)</th>\n",
       "      <th>rh (%)</th>\n",
       "      <th>VPmax (mbar)</th>\n",
       "      <th>VPact (mbar)</th>\n",
       "      <th>VPdef (mbar)</th>\n",
       "      <th>sh (g/kg)</th>\n",
       "      <th>H2OC (mmol/mol)</th>\n",
       "      <th>rho (g/m**3)</th>\n",
       "      <th>wv (m/s)</th>\n",
       "      <th>max. wv (m/s)</th>\n",
       "      <th>wd (deg)</th>\n",
       "    </tr>\n",
       "  </thead>\n",
       "  <tbody>\n",
       "    <tr>\n",
       "      <th>0</th>\n",
       "      <td>01.01.2009 00:10:00</td>\n",
       "      <td>996.52</td>\n",
       "      <td>-8.02</td>\n",
       "      <td>265.40</td>\n",
       "      <td>-8.90</td>\n",
       "      <td>93.3</td>\n",
       "      <td>3.33</td>\n",
       "      <td>3.11</td>\n",
       "      <td>0.22</td>\n",
       "      <td>1.94</td>\n",
       "      <td>3.12</td>\n",
       "      <td>1307.75</td>\n",
       "      <td>1.03</td>\n",
       "      <td>1.75</td>\n",
       "      <td>152.3</td>\n",
       "    </tr>\n",
       "    <tr>\n",
       "      <th>1</th>\n",
       "      <td>01.01.2009 00:20:00</td>\n",
       "      <td>996.57</td>\n",
       "      <td>-8.41</td>\n",
       "      <td>265.01</td>\n",
       "      <td>-9.28</td>\n",
       "      <td>93.4</td>\n",
       "      <td>3.23</td>\n",
       "      <td>3.02</td>\n",
       "      <td>0.21</td>\n",
       "      <td>1.89</td>\n",
       "      <td>3.03</td>\n",
       "      <td>1309.80</td>\n",
       "      <td>0.72</td>\n",
       "      <td>1.50</td>\n",
       "      <td>136.1</td>\n",
       "    </tr>\n",
       "    <tr>\n",
       "      <th>2</th>\n",
       "      <td>01.01.2009 00:30:00</td>\n",
       "      <td>996.53</td>\n",
       "      <td>-8.51</td>\n",
       "      <td>264.91</td>\n",
       "      <td>-9.31</td>\n",
       "      <td>93.9</td>\n",
       "      <td>3.21</td>\n",
       "      <td>3.01</td>\n",
       "      <td>0.20</td>\n",
       "      <td>1.88</td>\n",
       "      <td>3.02</td>\n",
       "      <td>1310.24</td>\n",
       "      <td>0.19</td>\n",
       "      <td>0.63</td>\n",
       "      <td>171.6</td>\n",
       "    </tr>\n",
       "    <tr>\n",
       "      <th>3</th>\n",
       "      <td>01.01.2009 00:40:00</td>\n",
       "      <td>996.51</td>\n",
       "      <td>-8.31</td>\n",
       "      <td>265.12</td>\n",
       "      <td>-9.07</td>\n",
       "      <td>94.2</td>\n",
       "      <td>3.26</td>\n",
       "      <td>3.07</td>\n",
       "      <td>0.19</td>\n",
       "      <td>1.92</td>\n",
       "      <td>3.08</td>\n",
       "      <td>1309.19</td>\n",
       "      <td>0.34</td>\n",
       "      <td>0.50</td>\n",
       "      <td>198.0</td>\n",
       "    </tr>\n",
       "    <tr>\n",
       "      <th>4</th>\n",
       "      <td>01.01.2009 00:50:00</td>\n",
       "      <td>996.51</td>\n",
       "      <td>-8.27</td>\n",
       "      <td>265.15</td>\n",
       "      <td>-9.04</td>\n",
       "      <td>94.1</td>\n",
       "      <td>3.27</td>\n",
       "      <td>3.08</td>\n",
       "      <td>0.19</td>\n",
       "      <td>1.92</td>\n",
       "      <td>3.09</td>\n",
       "      <td>1309.00</td>\n",
       "      <td>0.32</td>\n",
       "      <td>0.63</td>\n",
       "      <td>214.3</td>\n",
       "    </tr>\n",
       "  </tbody>\n",
       "</table>\n",
       "</div>"
      ],
      "text/plain": [
       "             Date Time  p (mbar)  T (degC)  Tpot (K)  Tdew (degC)  rh (%)  \\\n",
       "0  01.01.2009 00:10:00    996.52     -8.02    265.40        -8.90    93.3   \n",
       "1  01.01.2009 00:20:00    996.57     -8.41    265.01        -9.28    93.4   \n",
       "2  01.01.2009 00:30:00    996.53     -8.51    264.91        -9.31    93.9   \n",
       "3  01.01.2009 00:40:00    996.51     -8.31    265.12        -9.07    94.2   \n",
       "4  01.01.2009 00:50:00    996.51     -8.27    265.15        -9.04    94.1   \n",
       "\n",
       "   VPmax (mbar)  VPact (mbar)  VPdef (mbar)  sh (g/kg)  H2OC (mmol/mol)  \\\n",
       "0          3.33          3.11          0.22       1.94             3.12   \n",
       "1          3.23          3.02          0.21       1.89             3.03   \n",
       "2          3.21          3.01          0.20       1.88             3.02   \n",
       "3          3.26          3.07          0.19       1.92             3.08   \n",
       "4          3.27          3.08          0.19       1.92             3.09   \n",
       "\n",
       "   rho (g/m**3)  wv (m/s)  max. wv (m/s)  wd (deg)  \n",
       "0       1307.75      1.03           1.75     152.3  \n",
       "1       1309.80      0.72           1.50     136.1  \n",
       "2       1310.24      0.19           0.63     171.6  \n",
       "3       1309.19      0.34           0.50     198.0  \n",
       "4       1309.00      0.32           0.63     214.3  "
      ]
     },
     "execution_count": 1,
     "metadata": {},
     "output_type": "execute_result"
    }
   ],
   "source": [
    "import pandas as pd\n",
    "import numpy as np\n",
    "df = pd.read_csv('data/jena_climate_2009_2016.csv')\n",
    "df.head()"
   ]
  },
  {
   "cell_type": "code",
   "execution_count": 2,
   "metadata": {},
   "outputs": [
    {
     "data": {
      "text/plain": [
       "(420551, 15)"
      ]
     },
     "execution_count": 2,
     "metadata": {},
     "output_type": "execute_result"
    }
   ],
   "source": [
    "df.shape"
   ]
  },
  {
   "cell_type": "code",
   "execution_count": 3,
   "metadata": {
    "collapsed": true
   },
   "outputs": [
    {
     "data": {
      "text/plain": [
       "array([[ 9.9652e+02, -8.0200e+00,  2.6540e+02, ...,  1.0300e+00,\n",
       "         1.7500e+00,  1.5230e+02],\n",
       "       [ 9.9657e+02, -8.4100e+00,  2.6501e+02, ...,  7.2000e-01,\n",
       "         1.5000e+00,  1.3610e+02],\n",
       "       [ 9.9653e+02, -8.5100e+00,  2.6491e+02, ...,  1.9000e-01,\n",
       "         6.3000e-01,  1.7160e+02],\n",
       "       ...,\n",
       "       [ 9.9982e+02, -3.1600e+00,  2.7001e+02, ...,  1.0800e+00,\n",
       "         2.0000e+00,  2.1520e+02],\n",
       "       [ 9.9981e+02, -4.2300e+00,  2.6894e+02, ...,  1.4900e+00,\n",
       "         2.1600e+00,  2.2580e+02],\n",
       "       [ 9.9982e+02, -4.8200e+00,  2.6836e+02, ...,  1.2300e+00,\n",
       "         1.9600e+00,  1.8490e+02]])"
      ]
     },
     "execution_count": 3,
     "metadata": {},
     "output_type": "execute_result"
    }
   ],
   "source": [
    "df = df.iloc[:,1:].values"
   ]
  },
  {
   "cell_type": "code",
   "execution_count": 4,
   "metadata": {},
   "outputs": [
    {
     "data": {
      "text/plain": [
       "[<matplotlib.lines.Line2D at 0x2cb8d5427c0>]"
      ]
     },
     "execution_count": 4,
     "metadata": {},
     "output_type": "execute_result"
    },
    {
     "data": {
      "image/png": "[encoded data removed]",
      "text/plain": [
       "<Figure size 432x288 with 1 Axes>"
      ]
     },
     "metadata": {
      "needs_background": "light"
     },
     "output_type": "display_data"
    }
   ],
   "source": [
    "import matplotlib.pyplot as plt\n",
    "temp = df[:,1]\n",
    "plt.plot(range(len(temp)), temp)"
   ]
  },
  {
   "cell_type": "code",
   "execution_count": 4,
   "metadata": {},
   "outputs": [
    {
     "data": {
      "text/plain": [
       "[<matplotlib.lines.Line2D at 0x1980e42dd60>]"
      ]
     },
     "execution_count": 4,
     "metadata": {},
     "output_type": "execute_result"
    },
    {
     "data": {
      "image/png": "[encoded data removed]",
      "text/plain": [
       "<Figure size 432x288 with 1 Axes>"
      ]
     },
     "metadata": {
      "needs_background": "light"
     },
     "output_type": "display_data"
    }
   ],
   "source": [
    "plt.plot(range(1440), temp[:1440]) # 10일간 (하루는 1440분 그러니 하루는 144개 데이터 이다.)"
   ]
  },
  {
   "cell_type": "markdown",
   "metadata": {},
   "source": [
    "## 데이터 준비"
   ]
  },
  {
   "cell_type": "markdown",
   "metadata": {},
   "source": [
    "- 정규화"
   ]
  },
  {
   "cell_type": "code",
   "execution_count": 5,
   "metadata": {},
   "outputs": [],
   "source": [
    "mean = df[:200000].mean(axis=0)\n",
    "df -= mean\n",
    "std = df[:200000].std(axis=0)\n",
    "df /= std"
   ]
  },
  {
   "cell_type": "markdown",
   "metadata": {},
   "source": [
    "## 제너레이터"
   ]
  },
  {
   "cell_type": "markdown",
   "metadata": {},
   "source": [
    "* `data` : 원본 데이터(배열)\n",
    "* `lookback` : 입력으로 사용하기 위해 거슬러 올라갈 타임스텝\n",
    "* `delay` : 타깃으로 사용할 미래의 타임스텝\n",
    "* `min_index`와 `max_index` : 추출할 타임스텝의 범위를 지정하기 위한 `data` 배열의 인덱스. 검증 데이터와 테스트 데이터를 분리하는 데 사용\n",
    "* `shuffle` : 샘플을 섞을지 시간 순서대로 추출할지 결정합니다.\n",
    "* `batch_size` : 배치의 샘플 수\n",
    "* `step` : 데이터를 샘플링할 타임스텝 간격"
   ]
  },
  {
   "cell_type": "markdown",
   "metadata": {},
   "source": [
    "- step 6 = 한시간에 한번씩 데이터 추출 "
   ]
  },
  {
   "cell_type": "code",
   "execution_count": 6,
   "metadata": {},
   "outputs": [],
   "source": [
    "# data = (batch_size, timestamp, features)\n",
    "def generator(data, lookback, delay, min_index, max_index,\n",
    "              shuffle=False, batch_size=128, step=6):\n",
    "    if max_index is None:\n",
    "        max_index = len(data) - delay - 1 # 전체데이터에서 delay를 빼준거 바로 전꺼까지(입력데이터 다음에 하루 target data가 있어야함)\n",
    "    i = min_index + lookback\n",
    "    while 1:\n",
    "        if shuffle:\n",
    "            rows = np.random.randint(\n",
    "                min_index + lookback, max_index, size=batch_size)\n",
    "        else:\n",
    "            if i + batch_size >= max_index:\n",
    "                i = min_index + lookback\n",
    "            rows = np.arange(i, min(i + batch_size, max_index))\n",
    "            i += len(rows)\n",
    "\n",
    "        samples = np.zeros((len(rows),\n",
    "                           lookback // step,\n",
    "                           data.shape[-1]))\n",
    "        targets = np.zeros((len(rows),))\n",
    "        for j, row in enumerate(rows):\n",
    "            indices = range(rows[j] - lookback, rows[j], step)\n",
    "            samples[j] = data[indices]\n",
    "            targets[j] = data[rows[j] + delay][1]\n",
    "        yield samples, targets"
   ]
  },
  {
   "cell_type": "code",
   "execution_count": 7,
   "metadata": {},
   "outputs": [],
   "source": [
    "# 1 step = 10분\n",
    "my_lookback = 1440\n",
    "my_step = 6\n",
    "my_delay = 144\n",
    "my_batch_size = 128\n",
    "\n",
    "train_gen = generator(df,\n",
    "                      lookback=my_lookback,\n",
    "                      delay=my_delay,\n",
    "                      min_index=0,\n",
    "                      max_index=200000,\n",
    "                      shuffle=True,\n",
    "                      step=my_step, \n",
    "                      batch_size=my_batch_size)\n",
    "val_gen = generator(df,\n",
    "                    lookback=my_lookback,\n",
    "                    delay=my_delay,\n",
    "                    min_index=200001,\n",
    "                    max_index=300000,\n",
    "                    step=my_step,\n",
    "                    batch_size=my_batch_size)\n",
    "test_gen = generator(df,\n",
    "                     lookback=my_lookback,\n",
    "                     delay=my_delay,\n",
    "                     min_index=300001,\n",
    "                     max_index=None,\n",
    "                     step=my_step,\n",
    "                     batch_size=my_batch_size)\n",
    "\n",
    "# 전체 검증 세트를 순회하기 위해 val_gen에서 추출할 횟수\n",
    "val_steps = (300000 - 200001 - my_lookback) // my_batch_size\n",
    "\n",
    "# 전체 테스트 세트를 순회하기 위해 test_gen에서 추출할 횟수\n",
    "test_steps = (len(df) - 300001 - my_lookback) // my_batch_size"
   ]
  },
  {
   "cell_type": "markdown",
   "metadata": {},
   "source": [
    "## 모델링"
   ]
  },
  {
   "cell_type": "markdown",
   "metadata": {},
   "source": [
    "### 1. 24시간 뒤 온도가 동일하다면?"
   ]
  },
  {
   "cell_type": "code",
   "execution_count": 8,
   "metadata": {},
   "outputs": [
    {
     "name": "stdout",
     "output_type": "stream",
     "text": [
      "0.28973597299054815\n",
      "2.564887434980494\n"
     ]
    }
   ],
   "source": [
    "batch_maes = []\n",
    "for step in range(val_steps):\n",
    "    samples, targets = next(val_gen)\n",
    "    preds = samples[:, -1, 1]\n",
    "    mae = np.mean(np.abs(preds - targets))\n",
    "    batch_maes.append(mae)\n",
    "print(np.mean(batch_maes))\n",
    "print(np.mean(batch_maes)*std[1])"
   ]
  },
  {
   "cell_type": "markdown",
   "metadata": {},
   "source": [
    "### 2. Dense층 사용 예제"
   ]
  },
  {
   "cell_type": "code",
   "execution_count": 9,
   "metadata": {},
   "outputs": [
    {
     "name": "stdout",
     "output_type": "stream",
     "text": [
      "Epoch 1/20\n",
      "500/500 [==============================] - 9s 17ms/step - loss: 1.8120 - val_loss: 0.5317\n",
      "Epoch 2/20\n",
      "500/500 [==============================] - 8s 16ms/step - loss: 0.4819 - val_loss: 0.3162\n",
      "Epoch 3/20\n",
      "500/500 [==============================] - 8s 16ms/step - loss: 0.2943 - val_loss: 0.3561\n",
      "Epoch 4/20\n",
      "500/500 [==============================] - 8s 16ms/step - loss: 0.2668 - val_loss: 0.3111\n",
      "Epoch 5/20\n",
      "500/500 [==============================] - 8s 16ms/step - loss: 0.2559 - val_loss: 0.2976\n",
      "Epoch 6/20\n",
      "500/500 [==============================] - 8s 17ms/step - loss: 0.2457 - val_loss: 0.3288\n",
      "Epoch 7/20\n",
      "500/500 [==============================] - 8s 15ms/step - loss: 0.2384 - val_loss: 0.3409\n",
      "Epoch 8/20\n",
      "500/500 [==============================] - 8s 16ms/step - loss: 0.2355 - val_loss: 0.3108\n",
      "Epoch 9/20\n",
      "500/500 [==============================] - 8s 16ms/step - loss: 0.2296 - val_loss: 0.3282\n",
      "Epoch 10/20\n",
      "500/500 [==============================] - 8s 16ms/step - loss: 0.2248 - val_loss: 0.3218\n",
      "Epoch 11/20\n",
      "500/500 [==============================] - 8s 16ms/step - loss: 0.2215 - val_loss: 0.3476\n",
      "Epoch 12/20\n",
      "500/500 [==============================] - 8s 16ms/step - loss: 0.2191 - val_loss: 0.3207\n",
      "Epoch 13/20\n",
      "500/500 [==============================] - 8s 16ms/step - loss: 0.2156 - val_loss: 0.3629\n",
      "Epoch 14/20\n",
      "500/500 [==============================] - 8s 16ms/step - loss: 0.2122 - val_loss: 0.3413\n",
      "Epoch 15/20\n",
      "500/500 [==============================] - 8s 16ms/step - loss: 0.2116 - val_loss: 0.3203\n",
      "Epoch 16/20\n",
      "500/500 [==============================] - 8s 16ms/step - loss: 0.2057 - val_loss: 0.3318\n",
      "Epoch 17/20\n",
      "500/500 [==============================] - 8s 16ms/step - loss: 0.2057 - val_loss: 0.3259\n",
      "Epoch 18/20\n",
      "500/500 [==============================] - 8s 16ms/step - loss: 0.2034 - val_loss: 0.3298\n",
      "Epoch 19/20\n",
      "500/500 [==============================] - 8s 15ms/step - loss: 0.2039 - val_loss: 0.3263\n",
      "Epoch 20/20\n",
      "500/500 [==============================] - 8s 16ms/step - loss: 0.2021 - val_loss: 0.3495\n"
     ]
    }
   ],
   "source": [
    "from tensorflow.keras.models import Sequential\n",
    "from tensorflow.keras.layers import Flatten, Dense\n",
    "from tensorflow.keras.optimizers import RMSprop\n",
    "\n",
    "model = Sequential()\n",
    "model.add(Flatten(input_shape=(my_lookback // my_step, df.shape[-1])))\n",
    "model.add(Dense(32, activation='relu'))\n",
    "model.add(Dense(1))\n",
    "\n",
    "model.compile(optimizer=RMSprop(), loss='mae')\n",
    "history = model.fit(train_gen, steps_per_epoch=500, epochs=20, # sampling 한다 \n",
    "                    validation_data=val_gen, validation_steps=val_steps)"
   ]
  },
  {
   "cell_type": "code",
   "execution_count": 10,
   "metadata": {},
   "outputs": [
    {
     "data": {
      "text/plain": [
       "<matplotlib.legend.Legend at 0x1983c0f70d0>"
      ]
     },
     "execution_count": 10,
     "metadata": {},
     "output_type": "execute_result"
    },
    {
     "data": {
      "image/png": "[encoded data removed]",
      "text/plain": [
       "<Figure size 432x288 with 1 Axes>"
      ]
     },
     "metadata": {
      "needs_background": "light"
     },
     "output_type": "display_data"
    }
   ],
   "source": [
    "import matplotlib.pyplot as plt\n",
    "\n",
    "loss = history.history['loss']\n",
    "val_loss = history.history['val_loss']\n",
    "\n",
    "epochs = range(1, len(loss) + 1)\n",
    "\n",
    "plt.figure()\n",
    "\n",
    "plt.plot(epochs, loss, 'bo', label='Training loss')\n",
    "plt.plot(epochs, val_loss, 'b', label='Validation loss')\n",
    "plt.title('Training and validation loss')\n",
    "plt.legend()"
   ]
  },
  {
   "cell_type": "markdown",
   "metadata": {},
   "source": [
    "### 3. GRU 사용 예제"
   ]
  },
  {
   "cell_type": "code",
   "execution_count": 11,
   "metadata": {},
   "outputs": [
    {
     "name": "stdout",
     "output_type": "stream",
     "text": [
      "Epoch 1/20\n",
      "500/500 [==============================] - 11s 19ms/step - loss: 0.3413 - val_loss: 0.2721\n",
      "Epoch 2/20\n",
      "500/500 [==============================] - 9s 18ms/step - loss: 0.2868 - val_loss: 0.2710\n",
      "Epoch 3/20\n",
      "500/500 [==============================] - 9s 18ms/step - loss: 0.2832 - val_loss: 0.2669\n",
      "Epoch 4/20\n",
      "500/500 [==============================] - 9s 18ms/step - loss: 0.2754 - val_loss: 0.2626\n",
      "Epoch 5/20\n",
      "500/500 [==============================] - 9s 19ms/step - loss: 0.2680 - val_loss: 0.2675\n",
      "Epoch 6/20\n",
      "500/500 [==============================] - 9s 18ms/step - loss: 0.2645 - val_loss: 0.2659\n",
      "Epoch 7/20\n",
      "500/500 [==============================] - 9s 18ms/step - loss: 0.2606 - val_loss: 0.2633\n",
      "Epoch 8/20\n",
      "500/500 [==============================] - 9s 18ms/step - loss: 0.2570 - val_loss: 0.2687\n",
      "Epoch 9/20\n",
      "500/500 [==============================] - 9s 18ms/step - loss: 0.2525 - val_loss: 0.2683\n",
      "Epoch 10/20\n",
      "500/500 [==============================] - 9s 18ms/step - loss: 0.2500 - val_loss: 0.2754\n",
      "Epoch 11/20\n",
      "500/500 [==============================] - 9s 18ms/step - loss: 0.2450 - val_loss: 0.2703\n",
      "Epoch 12/20\n",
      "500/500 [==============================] - 9s 19ms/step - loss: 0.2398 - val_loss: 0.2764\n",
      "Epoch 13/20\n",
      "500/500 [==============================] - 9s 18ms/step - loss: 0.2369 - val_loss: 0.2804\n",
      "Epoch 14/20\n",
      "500/500 [==============================] - 9s 18ms/step - loss: 0.2314 - val_loss: 0.2823\n",
      "Epoch 15/20\n",
      "500/500 [==============================] - 9s 19ms/step - loss: 0.2274 - val_loss: 0.2828\n",
      "Epoch 16/20\n",
      "500/500 [==============================] - 9s 18ms/step - loss: 0.2242 - val_loss: 0.2885\n",
      "Epoch 17/20\n",
      "500/500 [==============================] - 9s 18ms/step - loss: 0.2185 - val_loss: 0.2858\n",
      "Epoch 18/20\n",
      "500/500 [==============================] - 9s 18ms/step - loss: 0.2133 - val_loss: 0.2935\n",
      "Epoch 19/20\n",
      "500/500 [==============================] - 9s 18ms/step - loss: 0.2129 - val_loss: 0.2940\n",
      "Epoch 20/20\n",
      "500/500 [==============================] - 9s 18ms/step - loss: 0.2083 - val_loss: 0.2929\n"
     ]
    }
   ],
   "source": [
    "from tensorflow.keras.models import Sequential\n",
    "from tensorflow.keras.layers import GRU, Dense\n",
    "from tensorflow.keras.optimizers import RMSprop\n",
    "\n",
    "model = Sequential()\n",
    "model.add(GRU(32, input_shape=(None, df.shape[-1])))\n",
    "model.add(Dense(1))\n",
    "\n",
    "model.compile(optimizer=RMSprop(), loss='mae')\n",
    "history = model.fit(train_gen, steps_per_epoch=500, epochs=20,\n",
    "                    validation_data=val_gen, validation_steps=val_steps)"
   ]
  },
  {
   "cell_type": "code",
   "execution_count": 12,
   "metadata": {},
   "outputs": [
    {
     "data": {
      "text/plain": [
       "<matplotlib.legend.Legend at 0x19851c46220>"
      ]
     },
     "execution_count": 12,
     "metadata": {},
     "output_type": "execute_result"
    },
    {
     "data": {
      "image/png": "[encoded data removed]",
      "text/plain": [
       "<Figure size 432x288 with 1 Axes>"
      ]
     },
     "metadata": {
      "needs_background": "light"
     },
     "output_type": "display_data"
    }
   ],
   "source": [
    "loss = history.history['loss']\n",
    "val_loss = history.history['val_loss']\n",
    "\n",
    "epochs = range(1, len(loss) + 1)\n",
    "\n",
    "plt.figure()\n",
    "\n",
    "plt.plot(epochs, loss, 'bo', label='Training loss')\n",
    "plt.plot(epochs, val_loss, 'b', label='Validation loss')\n",
    "plt.title('Training and validation loss')\n",
    "plt.legend()"
   ]
  },
  {
   "cell_type": "markdown",
   "metadata": {},
   "source": [
    "### 4. 순환 드롭아웃"
   ]
  },
  {
   "cell_type": "code",
   "execution_count": 14,
   "metadata": {},
   "outputs": [
    {
     "name": "stdout",
     "output_type": "stream",
     "text": [
      "Epoch 1/20\n",
      "500/500 [==============================] - 11s 20ms/step - loss: 0.3568 - val_loss: 0.2755\n",
      "Epoch 2/20\n",
      "500/500 [==============================] - 9s 19ms/step - loss: 0.2925 - val_loss: 0.2748\n",
      "Epoch 3/20\n",
      "500/500 [==============================] - 9s 19ms/step - loss: 0.2821 - val_loss: 0.2787\n",
      "Epoch 4/20\n",
      "500/500 [==============================] - 9s 19ms/step - loss: 0.2740 - val_loss: 0.2771\n",
      "Epoch 5/20\n",
      "500/500 [==============================] - 9s 19ms/step - loss: 0.2679 - val_loss: 0.2784\n",
      "Epoch 6/20\n",
      "500/500 [==============================] - 9s 19ms/step - loss: 0.2620 - val_loss: 0.2803\n",
      "Epoch 7/20\n",
      "500/500 [==============================] - 9s 18ms/step - loss: 0.2555 - val_loss: 0.2825\n",
      "Epoch 8/20\n",
      "500/500 [==============================] - 9s 19ms/step - loss: 0.2521 - val_loss: 0.2851\n",
      "Epoch 9/20\n",
      "500/500 [==============================] - 9s 19ms/step - loss: 0.2494 - val_loss: 0.2857\n",
      "Epoch 10/20\n",
      "500/500 [==============================] - 9s 19ms/step - loss: 0.2428 - val_loss: 0.2943\n",
      "Epoch 11/20\n",
      "500/500 [==============================] - 9s 19ms/step - loss: 0.2379 - val_loss: 0.2976\n",
      "Epoch 12/20\n",
      "500/500 [==============================] - 9s 19ms/step - loss: 0.2347 - val_loss: 0.2985\n",
      "Epoch 13/20\n",
      "500/500 [==============================] - 9s 19ms/step - loss: 0.2319 - val_loss: 0.2979\n",
      "Epoch 14/20\n",
      "500/500 [==============================] - 9s 19ms/step - loss: 0.2268 - val_loss: 0.3007\n",
      "Epoch 15/20\n",
      "500/500 [==============================] - 9s 19ms/step - loss: 0.2246 - val_loss: 0.2965\n",
      "Epoch 16/20\n",
      "500/500 [==============================] - 9s 19ms/step - loss: 0.2208 - val_loss: 0.3005\n",
      "Epoch 17/20\n",
      "500/500 [==============================] - 9s 19ms/step - loss: 0.2177 - val_loss: 0.3014\n",
      "Epoch 18/20\n",
      "500/500 [==============================] - 9s 19ms/step - loss: 0.2159 - val_loss: 0.3022\n",
      "Epoch 19/20\n",
      "500/500 [==============================] - 9s 19ms/step - loss: 0.2144 - val_loss: 0.3060\n",
      "Epoch 20/20\n",
      "500/500 [==============================] - 9s 19ms/step - loss: 0.2136 - val_loss: 0.3081\n"
     ]
    }
   ],
   "source": [
    "from tensorflow.keras.models import Sequential\n",
    "from tensorflow.keras.layers import LSTM, Dense\n",
    "from tensorflow.keras.optimizers import RMSprop\n",
    "\n",
    "model = Sequential()\n",
    "#model.add(LSTM(32, dropout=0.2, recurrent_dropout=0.2, input_shape=(None, df.shape[-1])))\n",
    "model.add(LSTM(32, dropout=0.2, input_shape=(None, df.shape[-1])))\n",
    "model.add(Dense(1))\n",
    "\n",
    "model.compile(optimizer=RMSprop(), loss='mae')\n",
    "history = model.fit(train_gen, steps_per_epoch=500, epochs=20,\n",
    "                    validation_data=val_gen, validation_steps=val_steps)"
   ]
  },
  {
   "cell_type": "code",
   "execution_count": 15,
   "metadata": {},
   "outputs": [
    {
     "data": {
      "text/plain": [
       "<matplotlib.legend.Legend at 0x19b2d214ee0>"
      ]
     },
     "execution_count": 15,
     "metadata": {},
     "output_type": "execute_result"
    },
    {
     "data": {
      "image/png": "[encoded data removed]",
      "text/plain": [
       "<Figure size 432x288 with 1 Axes>"
      ]
     },
     "metadata": {
      "needs_background": "light"
     },
     "output_type": "display_data"
    }
   ],
   "source": [
    "loss = history.history['loss']\n",
    "val_loss = history.history['val_loss']\n",
    "\n",
    "epochs = range(1, len(loss) + 1)\n",
    "\n",
    "plt.figure()\n",
    "\n",
    "plt.plot(epochs, loss, 'bo', label='Training loss')\n",
    "plt.plot(epochs, val_loss, 'b', label='Validation loss')\n",
    "plt.title('Training and validation loss')\n",
    "plt.legend()"
   ]
  },
  {
   "cell_type": "markdown",
   "metadata": {},
   "source": [
    "### 5. 스태킹 순환 층"
   ]
  },
  {
   "cell_type": "code",
   "execution_count": 17,
   "metadata": {},
   "outputs": [
    {
     "name": "stdout",
     "output_type": "stream",
     "text": [
      "Epoch 1/20\n",
      "500/500 [==============================] - 16s 28ms/step - loss: 0.3443 - val_loss: 0.2778\n",
      "Epoch 2/20\n",
      "500/500 [==============================] - 14s 27ms/step - loss: 0.2980 - val_loss: 0.2674\n",
      "Epoch 3/20\n",
      "500/500 [==============================] - 13s 27ms/step - loss: 0.2845 - val_loss: 0.2637\n",
      "Epoch 4/20\n",
      "500/500 [==============================] - 14s 27ms/step - loss: 0.2726 - val_loss: 0.2670\n",
      "Epoch 5/20\n",
      "500/500 [==============================] - 14s 27ms/step - loss: 0.2621 - val_loss: 0.2783\n",
      "Epoch 6/20\n",
      "500/500 [==============================] - 14s 27ms/step - loss: 0.2535 - val_loss: 0.2793\n",
      "Epoch 7/20\n",
      "500/500 [==============================] - 14s 27ms/step - loss: 0.2454 - val_loss: 0.2872\n",
      "Epoch 8/20\n",
      "500/500 [==============================] - 14s 27ms/step - loss: 0.2367 - val_loss: 0.2887\n",
      "Epoch 9/20\n",
      "500/500 [==============================] - 14s 27ms/step - loss: 0.2277 - val_loss: 0.2948\n",
      "Epoch 10/20\n",
      "500/500 [==============================] - 14s 27ms/step - loss: 0.2180 - val_loss: 0.2975\n",
      "Epoch 11/20\n",
      "500/500 [==============================] - 13s 27ms/step - loss: 0.2098 - val_loss: 0.3083\n",
      "Epoch 12/20\n",
      "500/500 [==============================] - 14s 27ms/step - loss: 0.2013 - val_loss: 0.3109\n",
      "Epoch 13/20\n",
      "500/500 [==============================] - 14s 27ms/step - loss: 0.1920 - val_loss: 0.3083\n",
      "Epoch 14/20\n",
      "500/500 [==============================] - 14s 28ms/step - loss: 0.1853 - val_loss: 0.3265\n",
      "Epoch 15/20\n",
      "500/500 [==============================] - 14s 27ms/step - loss: 0.1792 - val_loss: 0.3170\n",
      "Epoch 16/20\n",
      "500/500 [==============================] - 13s 27ms/step - loss: 0.1730 - val_loss: 0.3211\n",
      "Epoch 17/20\n",
      "500/500 [==============================] - 14s 27ms/step - loss: 0.1675 - val_loss: 0.3220\n",
      "Epoch 18/20\n",
      "500/500 [==============================] - 14s 27ms/step - loss: 0.1600 - val_loss: 0.3269\n",
      "Epoch 19/20\n",
      "500/500 [==============================] - 14s 28ms/step - loss: 0.1569 - val_loss: 0.3248\n",
      "Epoch 20/20\n",
      "500/500 [==============================] - 14s 27ms/step - loss: 0.1544 - val_loss: 0.3220\n"
     ]
    }
   ],
   "source": [
    "from tensorflow.keras.models import Sequential\n",
    "from tensorflow.keras.layers import GRU, Dense\n",
    "from tensorflow.keras.optimizers import RMSprop\n",
    "\n",
    "model = Sequential()\n",
    "model.add(GRU(32, dropout=0.1, return_sequences=True, input_shape=(None, df.shape[-1])))\n",
    "model.add(GRU(64, dropout=0.1))\n",
    "#model.add(GRU(64, activation='relu', dropout=0.1))\n",
    "model.add(Dense(1))\n",
    "\n",
    "model.compile(optimizer=RMSprop(), loss='mae')\n",
    "history = model.fit(train_gen, steps_per_epoch=500, epochs=20,\n",
    "                    validation_data=val_gen, validation_steps=val_steps)"
   ]
  },
  {
   "cell_type": "code",
   "execution_count": 18,
   "metadata": {},
   "outputs": [
    {
     "data": {
      "text/plain": [
       "<matplotlib.legend.Legend at 0x19b31e6c280>"
      ]
     },
     "execution_count": 18,
     "metadata": {},
     "output_type": "execute_result"
    },
    {
     "data": {
      "image/png": "[encoded data removed]",
      "text/plain": [
       "<Figure size 432x288 with 1 Axes>"
      ]
     },
     "metadata": {
      "needs_background": "light"
     },
     "output_type": "display_data"
    }
   ],
   "source": [
    "loss = history.history['loss']\n",
    "val_loss = history.history['val_loss']\n",
    "\n",
    "epochs = range(1, len(loss) + 1)\n",
    "\n",
    "plt.figure()\n",
    "\n",
    "plt.plot(epochs, loss, 'bo', label='Training loss')\n",
    "plt.plot(epochs, val_loss, 'b', label='Validation loss')\n",
    "plt.title('Training and validation loss')\n",
    "plt.legend()"
   ]
  },
  {
   "cell_type": "markdown",
   "metadata": {},
   "source": [
    "### 6. 역방향"
   ]
  },
  {
   "cell_type": "code",
   "execution_count": 19,
   "metadata": {},
   "outputs": [],
   "source": [
    "def reverse_generator(data, lookback, delay, min_index, max_index,\n",
    "              shuffle=False, batch_size=128, step=6):\n",
    "    if max_index is None:\n",
    "        max_index = len(data) - delay - 1\n",
    "    i = min_index + lookback\n",
    "    while 1:\n",
    "        if shuffle:\n",
    "            rows = np.random.randint(\n",
    "                min_index + lookback, max_index, size=batch_size)\n",
    "        else:\n",
    "            if i + batch_size >= max_index:\n",
    "                i = min_index + lookback\n",
    "            rows = np.arange(i, min(i + batch_size, max_index))\n",
    "            i += len(rows)\n",
    "\n",
    "        samples = np.zeros((len(rows),\n",
    "                           lookback // step,\n",
    "                           data.shape[-1]))\n",
    "        targets = np.zeros((len(rows),))\n",
    "        for j, row in enumerate(rows):\n",
    "            indices = range(rows[j] - lookback, rows[j], step)\n",
    "            samples[j] = data[indices]\n",
    "            targets[j] = data[rows[j] + delay][1]\n",
    "        yield samples[:, ::-1, :], targets\n",
    "        \n",
    "train_gen_reverse = reverse_generator(df,\n",
    "                      lookback=my_lookback,\n",
    "                      delay=my_delay,\n",
    "                      min_index=0,\n",
    "                      max_index=200000,\n",
    "                      shuffle=True,\n",
    "                      step=my_step, \n",
    "                      batch_size=my_batch_size)\n",
    "val_gen_reverse = reverse_generator(df,\n",
    "                    lookback=my_lookback,\n",
    "                    delay=my_delay,\n",
    "                    min_index=200001,\n",
    "                    max_index=300000,\n",
    "                    step=my_step,\n",
    "                    batch_size=my_batch_size)"
   ]
  },
  {
   "cell_type": "code",
   "execution_count": 20,
   "metadata": {},
   "outputs": [
    {
     "name": "stdout",
     "output_type": "stream",
     "text": [
      "Epoch 1/20\n",
      "500/500 [==============================] - 11s 19ms/step - loss: 0.4989 - val_loss: 0.4841\n",
      "Epoch 2/20\n",
      "500/500 [==============================] - 9s 19ms/step - loss: 0.4457 - val_loss: 0.4661\n",
      "Epoch 3/20\n",
      "500/500 [==============================] - 9s 19ms/step - loss: 0.4105 - val_loss: 0.4489\n",
      "Epoch 4/20\n",
      "500/500 [==============================] - 9s 19ms/step - loss: 0.3722 - val_loss: 0.4701\n",
      "Epoch 5/20\n",
      "500/500 [==============================] - 9s 19ms/step - loss: 0.3437 - val_loss: 0.4629\n",
      "Epoch 6/20\n",
      "500/500 [==============================] - 9s 19ms/step - loss: 0.3245 - val_loss: 0.4506\n",
      "Epoch 7/20\n",
      "500/500 [==============================] - 9s 19ms/step - loss: 0.3090 - val_loss: 0.4398\n",
      "Epoch 8/20\n",
      "500/500 [==============================] - 9s 19ms/step - loss: 0.2962 - val_loss: 0.4423\n",
      "Epoch 9/20\n",
      "500/500 [==============================] - 9s 19ms/step - loss: 0.2847 - val_loss: 0.4403\n",
      "Epoch 10/20\n",
      "500/500 [==============================] - 9s 19ms/step - loss: 0.2771 - val_loss: 0.4320\n",
      "Epoch 11/20\n",
      "500/500 [==============================] - 9s 19ms/step - loss: 0.2687 - val_loss: 0.4250\n",
      "Epoch 12/20\n",
      "500/500 [==============================] - 9s 19ms/step - loss: 0.2623 - val_loss: 0.4314\n",
      "Epoch 13/20\n",
      "500/500 [==============================] - 9s 19ms/step - loss: 0.2567 - val_loss: 0.4356\n",
      "Epoch 14/20\n",
      "500/500 [==============================] - 9s 19ms/step - loss: 0.2502 - val_loss: 0.4307\n",
      "Epoch 15/20\n",
      "500/500 [==============================] - 9s 19ms/step - loss: 0.2471 - val_loss: 0.4401\n",
      "Epoch 16/20\n",
      "500/500 [==============================] - 9s 19ms/step - loss: 0.2417 - val_loss: 0.4309\n",
      "Epoch 17/20\n",
      "500/500 [==============================] - 9s 18ms/step - loss: 0.2371 - val_loss: 0.4341\n",
      "Epoch 18/20\n",
      "500/500 [==============================] - 9s 19ms/step - loss: 0.2335 - val_loss: 0.4376\n",
      "Epoch 19/20\n",
      "500/500 [==============================] - 9s 19ms/step - loss: 0.2300 - val_loss: 0.4392\n",
      "Epoch 20/20\n",
      "500/500 [==============================] - 9s 19ms/step - loss: 0.2278 - val_loss: 0.4396\n"
     ]
    }
   ],
   "source": [
    "model = Sequential()\n",
    "model.add(GRU(32, input_shape=(None, df.shape[-1])))\n",
    "model.add(Dense(1))\n",
    "\n",
    "model.compile(optimizer=RMSprop(), loss='mae')\n",
    "history = model.fit(train_gen_reverse, steps_per_epoch=500, epochs=20,\n",
    "                    validation_data=val_gen_reverse, validation_steps=val_steps)"
   ]
  },
  {
   "cell_type": "code",
   "execution_count": 21,
   "metadata": {},
   "outputs": [
    {
     "data": {
      "text/plain": [
       "<matplotlib.legend.Legend at 0x19b132bfd90>"
      ]
     },
     "execution_count": 21,
     "metadata": {},
     "output_type": "execute_result"
    },
    {
     "data": {
      "image/png": "[encoded data removed]",
      "text/plain": [
       "<Figure size 432x288 with 1 Axes>"
      ]
     },
     "metadata": {
      "needs_background": "light"
     },
     "output_type": "display_data"
    }
   ],
   "source": [
    "loss = history.history['loss']\n",
    "val_loss = history.history['val_loss']\n",
    "\n",
    "epochs = range(1, len(loss) + 1)\n",
    "\n",
    "plt.figure()\n",
    "\n",
    "plt.plot(epochs, loss, 'bo', label='Training loss')\n",
    "plt.plot(epochs, val_loss, 'b', label='Validation loss')\n",
    "plt.title('Training and validation loss')\n",
    "plt.legend()"
   ]
  },
  {
   "cell_type": "markdown",
   "metadata": {},
   "source": [
    "- 역방향을 텍스트에 적용한다면?"
   ]
  },
  {
   "cell_type": "code",
   "execution_count": 25,
   "metadata": {},
   "outputs": [
    {
     "name": "stdout",
     "output_type": "stream",
     "text": [
      "Epoch 1/10\n",
      "157/157 [==============================] - 4s 18ms/step - loss: 0.5925 - acc: 0.6638 - val_loss: 0.4537 - val_acc: 0.8056\n",
      "Epoch 2/10\n",
      "157/157 [==============================] - 2s 15ms/step - loss: 0.3240 - acc: 0.8716 - val_loss: 0.4987 - val_acc: 0.7658\n",
      "Epoch 3/10\n",
      "157/157 [==============================] - 2s 15ms/step - loss: 0.2549 - acc: 0.9011 - val_loss: 0.5910 - val_acc: 0.8184\n",
      "Epoch 4/10\n",
      "157/157 [==============================] - 2s 15ms/step - loss: 0.2217 - acc: 0.9195 - val_loss: 0.5400 - val_acc: 0.7652\n",
      "Epoch 5/10\n",
      "157/157 [==============================] - 2s 15ms/step - loss: 0.1879 - acc: 0.9319 - val_loss: 0.4017 - val_acc: 0.8438\n",
      "Epoch 6/10\n",
      "157/157 [==============================] - 2s 15ms/step - loss: 0.1622 - acc: 0.9414 - val_loss: 0.4102 - val_acc: 0.8244\n",
      "Epoch 7/10\n",
      "157/157 [==============================] - 2s 16ms/step - loss: 0.1444 - acc: 0.9491 - val_loss: 0.4405 - val_acc: 0.8378\n",
      "Epoch 8/10\n",
      "157/157 [==============================] - 2s 15ms/step - loss: 0.1269 - acc: 0.9568 - val_loss: 0.6568 - val_acc: 0.7844\n",
      "Epoch 9/10\n",
      "157/157 [==============================] - 2s 16ms/step - loss: 0.1160 - acc: 0.9587 - val_loss: 0.5584 - val_acc: 0.8364\n",
      "Epoch 10/10\n",
      "157/157 [==============================] - 2s 15ms/step - loss: 0.0954 - acc: 0.9671 - val_loss: 0.4604 - val_acc: 0.8150\n"
     ]
    }
   ],
   "source": [
    "from tensorflow.keras.datasets import imdb\n",
    "from tensorflow.keras.preprocessing import sequence\n",
    "from tensorflow.keras.layers import Embedding, LSTM, Dense\n",
    "from tensorflow.keras.models import Sequential\n",
    "max_features = 10000\n",
    "maxlen = 100\n",
    "(x_train, y_train), (x_test, y_test) = imdb.load_data(num_words=max_features)\n",
    "\n",
    "x_train = sequence.pad_sequences(x_train, maxlen=maxlen)\n",
    "x_test = sequence.pad_sequences(x_test, maxlen=maxlen)\n",
    "\n",
    "model = Sequential()\n",
    "model.add(Embedding(max_features, 128))\n",
    "model.add(LSTM(32, go_backwards=True)) # 역방향으로 LSTM 적용\n",
    "model.add(Dense(1, activation='sigmoid'))\n",
    "\n",
    "model.compile(optimizer='rmsprop',\n",
    "              loss='binary_crossentropy',\n",
    "              metrics=['acc'])\n",
    "history = model.fit(x_train, y_train,\n",
    "                    epochs=10,\n",
    "                    batch_size=128,\n",
    "                    validation_split=0.2)"
   ]
  },
  {
   "cell_type": "markdown",
   "metadata": {},
   "source": [
    "### 7. 양방향"
   ]
  },
  {
   "cell_type": "code",
   "execution_count": 23,
   "metadata": {},
   "outputs": [],
   "source": [
    "from tensorflow.keras import backend as K\n",
    "K.clear_session()"
   ]
  },
  {
   "cell_type": "code",
   "execution_count": 26,
   "metadata": {},
   "outputs": [
    {
     "name": "stdout",
     "output_type": "stream",
     "text": [
      "Epoch 1/10\n",
      "157/157 [==============================] - 5s 18ms/step - loss: 0.5975 - acc: 0.6624 - val_loss: 0.3938 - val_acc: 0.8318\n",
      "Epoch 2/10\n",
      "157/157 [==============================] - 2s 14ms/step - loss: 0.3394 - acc: 0.8589 - val_loss: 0.4942 - val_acc: 0.7894\n",
      "Epoch 3/10\n",
      "157/157 [==============================] - 2s 14ms/step - loss: 0.2750 - acc: 0.8921 - val_loss: 0.4436 - val_acc: 0.8066\n",
      "Epoch 4/10\n",
      "157/157 [==============================] - 2s 14ms/step - loss: 0.2165 - acc: 0.9177 - val_loss: 0.4246 - val_acc: 0.8046\n",
      "Epoch 5/10\n",
      "157/157 [==============================] - 2s 14ms/step - loss: 0.1970 - acc: 0.9264 - val_loss: 0.5188 - val_acc: 0.8174\n",
      "Epoch 6/10\n",
      "157/157 [==============================] - 2s 14ms/step - loss: 0.1809 - acc: 0.9347 - val_loss: 0.3869 - val_acc: 0.8264\n",
      "Epoch 7/10\n",
      "157/157 [==============================] - 2s 14ms/step - loss: 0.1586 - acc: 0.9429 - val_loss: 0.4358 - val_acc: 0.8432\n",
      "Epoch 8/10\n",
      "157/157 [==============================] - 2s 14ms/step - loss: 0.1438 - acc: 0.9497 - val_loss: 0.5029 - val_acc: 0.8334\n",
      "Epoch 9/10\n",
      "157/157 [==============================] - 2s 14ms/step - loss: 0.1331 - acc: 0.9551 - val_loss: 0.5119 - val_acc: 0.8166\n",
      "Epoch 10/10\n",
      "157/157 [==============================] - 2s 13ms/step - loss: 0.1188 - acc: 0.9568 - val_loss: 0.5378 - val_acc: 0.8234\n"
     ]
    }
   ],
   "source": [
    "from tensorflow.keras.layers import Embedding, LSTM, Bidirectional, Dense\n",
    "model = Sequential()\n",
    "model.add(Embedding(max_features, 32))\n",
    "model.add(Bidirectional(LSTM(32)))\n",
    "model.add(Dense(1, activation='sigmoid'))\n",
    "\n",
    "model.compile(optimizer='rmsprop', loss='binary_crossentropy', metrics=['acc'])\n",
    "history = model.fit(x_train, y_train, epochs=10, batch_size=128, validation_split=0.2)"
   ]
  },
  {
   "cell_type": "code",
   "execution_count": 28,
   "metadata": {},
   "outputs": [
    {
     "name": "stdout",
     "output_type": "stream",
     "text": [
      "Epoch 1/20\n",
      "500/500 [==============================] - 16s 27ms/step - loss: 0.3239 - val_loss: 0.2701\n",
      "Epoch 2/20\n",
      "500/500 [==============================] - 13s 27ms/step - loss: 0.2800 - val_loss: 0.2696\n",
      "Epoch 3/20\n",
      "500/500 [==============================] - 13s 27ms/step - loss: 0.2703 - val_loss: 0.2796\n",
      "Epoch 4/20\n",
      "500/500 [==============================] - 13s 27ms/step - loss: 0.2642 - val_loss: 0.2747\n",
      "Epoch 5/20\n",
      "500/500 [==============================] - 13s 26ms/step - loss: 0.2564 - val_loss: 0.2673\n",
      "Epoch 6/20\n",
      "500/500 [==============================] - 13s 26ms/step - loss: 0.2529 - val_loss: 0.2699\n",
      "Epoch 7/20\n",
      "500/500 [==============================] - 13s 27ms/step - loss: 0.2479 - val_loss: 0.2779\n",
      "Epoch 8/20\n",
      "500/500 [==============================] - 14s 27ms/step - loss: 0.2425 - val_loss: 0.2777\n",
      "Epoch 9/20\n",
      "500/500 [==============================] - 14s 27ms/step - loss: 0.2341 - val_loss: 0.2784\n",
      "Epoch 10/20\n",
      "500/500 [==============================] - 14s 27ms/step - loss: 0.2283 - val_loss: 0.2901\n",
      "Epoch 11/20\n",
      "500/500 [==============================] - 14s 27ms/step - loss: 0.2210 - val_loss: 0.2946\n",
      "Epoch 12/20\n",
      "500/500 [==============================] - 14s 27ms/step - loss: 0.2144 - val_loss: 0.3010\n",
      "Epoch 13/20\n",
      "500/500 [==============================] - 13s 27ms/step - loss: 0.2079 - val_loss: 0.3110\n",
      "Epoch 14/20\n",
      "500/500 [==============================] - 14s 27ms/step - loss: 0.2039 - val_loss: 0.3157\n",
      "Epoch 15/20\n",
      "500/500 [==============================] - 14s 27ms/step - loss: 0.1978 - val_loss: 0.3115\n",
      "Epoch 16/20\n",
      "500/500 [==============================] - 14s 27ms/step - loss: 0.1936 - val_loss: 0.3174\n",
      "Epoch 17/20\n",
      "500/500 [==============================] - 14s 27ms/step - loss: 0.1886 - val_loss: 0.3302\n",
      "Epoch 18/20\n",
      "500/500 [==============================] - 14s 27ms/step - loss: 0.1858 - val_loss: 0.3296\n",
      "Epoch 19/20\n",
      "500/500 [==============================] - 14s 27ms/step - loss: 0.1793 - val_loss: 0.3283\n",
      "Epoch 20/20\n",
      "500/500 [==============================] - 14s 27ms/step - loss: 0.1762 - val_loss: 0.3352\n"
     ]
    }
   ],
   "source": [
    "from tensorflow.keras.models import Sequential\n",
    "from tensorflow.keras.layers import GRU, Bidirectional, Dense\n",
    "from tensorflow.keras.optimizers import RMSprop\n",
    "\n",
    "model = Sequential()\n",
    "model.add(Bidirectional(GRU(32), input_shape=(None, df.shape[-1])))\n",
    "model.add(Dense(1))\n",
    "\n",
    "model.compile(optimizer=RMSprop(), loss='mae')\n",
    "history = model.fit(train_gen, steps_per_epoch=500, epochs=20,\n",
    "                    validation_data=val_gen, validation_steps=val_steps)"
   ]
  },
  {
   "cell_type": "markdown",
   "metadata": {},
   "source": [
    "### State관련 설정\n",
    "* `return_state` : True일 경우 출력에 State를 함께 출력\n",
    "* `stateful` : 각 샘플의 마지막 State를 다음 배치 때 초기 State로 설정"
   ]
  }
 ],
 "metadata": {
  "kernelspec": {
   "display_name": "Python 3",
   "language": "python",
   "name": "python3"
  },
  "language_info": {
   "codemirror_mode": {
    "name": "ipython",
    "version": 3
   },
   "file_extension": ".py",
   "mimetype": "text/x-python",
   "name": "python",
   "nbconvert_exporter": "python",
   "pygments_lexer": "ipython3",
   "version": "3.7.9"
  },
  "toc": {
   "base_numbering": 1,
   "nav_menu": {},
   "number_sections": true,
   "sideBar": true,
   "skip_h1_title": false,
   "title_cell": "Table of Contents",
   "title_sidebar": "Contents",
   "toc_cell": false,
   "toc_position": {},
   "toc_section_display": true,
   "toc_window_display": false
  },
  "varInspector": {
   "cols": {
    "lenName": 16,
    "lenType": 16,
    "lenVar": 40
   },
   "kernels_config": {
    "python": {
     "delete_cmd_postfix": "",
     "delete_cmd_prefix": "del ",
     "library": "var_list.py",
     "varRefreshCmd": "print(var_dic_list())"
    },
    "r": {
     "delete_cmd_postfix": ") ",
     "delete_cmd_prefix": "rm(",
     "library": "var_list.r",
     "varRefreshCmd": "cat(var_dic_list()) "
    }
   },
   "types_to_exclude": [
    "module",
    "function",
    "builtin_function_or_method",
    "instance",
    "_Feature"
   ],
   "window_display": false
  }
 },
 "nbformat": 4,
 "nbformat_minor": 4
}
