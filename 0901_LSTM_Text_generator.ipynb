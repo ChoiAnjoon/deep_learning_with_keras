{
 "cells": [
  {
   "cell_type": "code",
   "execution_count": 1,
   "metadata": {},
   "outputs": [
    {
     "name": "stdout",
     "output_type": "stream",
     "text": [
      "말뭉치 크기: 323659\n"
     ]
    }
   ],
   "source": [
    "import numpy as np\n",
    "text = open('data/이광수_무정.txt', encoding='euc-kr').read()\n",
    "print('말뭉치 크기:', len(text))"
   ]
  },
  {
   "cell_type": "code",
   "execution_count": 3,
   "metadata": {},
   "outputs": [
    {
     "name": "stdout",
     "output_type": "stream",
     "text": [
      "시퀀스 개수: 107867\n",
      "고유한 글자: 1679\n",
      "벡터화...\n"
     ]
    }
   ],
   "source": [
    "# 60개 글자로 된 시퀀스를 추출합니다.\n",
    "maxlen = 60\n",
    "# 세 글자씩 건너 뛰면서 새로운 시퀀스를 샘플링합니다.\n",
    "step = 3\n",
    "# 추출한 시퀀스를 담을 리스트\n",
    "sentences = []\n",
    "# 타깃(시퀀스 다음 글자)을 담을 리스트\n",
    "next_chars = []\n",
    "\n",
    "for i in range(0, len(text) - maxlen, step):\n",
    "    sentences.append(text[i: i + maxlen])\n",
    "    next_chars.append(text[i + maxlen])\n",
    "print('시퀀스 개수:', len(sentences))\n",
    "\n",
    "# 말뭉치에서 고유한 글자를 담은 리스트\n",
    "chars = sorted(list(set(text)))\n",
    "print('고유한 글자:', len(chars))\n",
    "# chars 리스트에 있는 글자와 글자의 인덱스를 매핑한 딕셔너리\n",
    "char_indices = dict((char, chars.index(char)) for char in chars)\n",
    "\n",
    "# 글자를 원-핫 인코딩하여 0과 1의 이진 배열로 바꿉니다.\n",
    "print('벡터화...')\n",
    "x = np.zeros((len(sentences), maxlen, len(chars)), dtype=np.bool)\n",
    "y = np.zeros((len(sentences), len(chars)), dtype=np.bool)\n",
    "for i, sentence in enumerate(sentences):\n",
    "    for t, char in enumerate(sentence):\n",
    "        x[i, t, char_indices[char]] = 1\n",
    "    y[i, char_indices[next_chars[i]]] = 1"
   ]
  },
  {
   "cell_type": "code",
   "execution_count": 12,
   "metadata": {},
   "outputs": [],
   "source": [
    "from tensorflow.keras.models import Sequential\n",
    "from tensorflow.keras.layers import LSTM, Dense\n",
    "\n",
    "model = Sequential()\n",
    "model.add(LSTM(128, input_shape=(maxlen, len(chars))))\n",
    "model.add(Dense(len(chars), activation='softmax'))"
   ]
  },
  {
   "cell_type": "code",
   "execution_count": 13,
   "metadata": {},
   "outputs": [],
   "source": [
    "from tensorflow.keras.optimizers import RMSprop\n",
    "optimizer = RMSprop(lr=0.01)\n",
    "model.compile(loss='categorical_crossentropy', optimizer=optimizer)"
   ]
  },
  {
   "cell_type": "code",
   "execution_count": 14,
   "metadata": {},
   "outputs": [],
   "source": [
    "def sample(preds, temperature=1.0):\n",
    "    preds = np.asarray(preds).astype('float64')\n",
    "    preds = np.log(preds) / temperature\n",
    "    exp_preds = np.exp(preds)\n",
    "    preds = exp_preds / np.sum(exp_preds) # 전체합을 1로 만들어주기 위해 전체개수로 나눠줌\n",
    "    probas = np.random.multinomial(1, preds, 1)\n",
    "    return np.argmax(probas)"
   ]
  },
  {
   "cell_type": "code",
   "execution_count": 15,
   "metadata": {},
   "outputs": [
    {
     "name": "stdout",
     "output_type": "stream",
     "text": [
      "에포크 1\n",
      "843/843 [==============================] - 15s 15ms/step - loss: 3.9326\n",
      "--- 시드 텍스트: \"지금껏 잊어버렸던 개가 입에 희끄무레한 무엇을 물고 따라온다. 영채는 반겨 그 개를 안았다. 그러나 그 개의\"\n",
      "------ 온도: 0.2\n",
      "지금껏 잊어버렸던 개가 입에 희끄무레한 무엇을 물고 따라온다. 영채는 반겨 그 개를 안았다. 그러나 그 개의 마음이 그 사람이 있는 것이 아니하였다. 그러고 형식의 얼굴을 보았다. 그러고 그 사람이 아니하고 마음을 보았다. 그러고 그 사람이 있는 것이 아니하고 그 사람이 있는 것이 없고, 그 사람이 있는 것이 아니하였다. 그러고 그 사람이 있는 것이 아니하고 형식의 얼굴이 있는 것이 아니하고 그 사람이 있는 것이 아니하고 그 사람이 있는 것이 아니하였다. 그러고\n",
      "------ 온도: 0.5\n",
      "지금껏 잊어버렸던 개가 입에 희끄무레한 무엇을 물고 따라온다. 영채는 반겨 그 개를 안았다. 그러나 그 개의 일생의 말이 없는 말하는 형식은 형식의 것이 마음이 아니 하였다. 그러고 그 사람이 되어 있어, 그 불을 보고 그만한 사람의 사람이 있는 것이 말하여 대답을 보았다. 그러고 그러한 일이 아니하고 다만 주인이 없고, 우선은 이 말이 아니하였다. 그러고 얼굴을 알아 있는 것이 다 그 고개를 보고 그 말을 하고 나서 사람이 본다. 그러고 영채의 말을 보았다. \n",
      "------ 온도: 1.0\n",
      "지금껏 잊어버렸던 개가 입에 희끄무레한 무엇을 물고 따라온다. 영채는 반겨 그 개를 안았다. 그러나 그 개의 형식은 언암 바자가 이런 동정물으로 ” 하고 고개를 랑하라며,\n",
      "“에서 이월향이 파는 음물을 조선과 그고 밖가 짜외히 잘 한았다. 그러고 차모기을 자기의 김작렬이가, 선생의 반대(셔렇)이 아니하였다. 선형은, 그 병인도, 아녀야 이놀라는 생각으로 형식의 옥단에 극냐이 …… 허)의 듯하게 생각들을다가, 저 책란 무일인하며 데지 과연 습니다. 그래서 생각하였다\n",
      "------ 온도: 1.2\n",
      "지금껏 잊어버렸던 개가 입에 희끄무레한 무엇을 물고 따라온다. 영채는 반겨 그 개를 안았다. 그러나 그 개의 얼굴을 대면연궐십를 놈려게도…… 그중야 이를 켜 흙이리는니, 같은, 할다…-박같다. 다(공밤구사나?하였다. 선생리도 순소러한다. 자기의 말을 돌코 교와 들내가 청창이는. 늘움(라발인의 찍 목부름학대깨계슴은 듯하였은.” 그늘 돌아받겠떻만(뻐팔는었나 함금 아매 선깐 올라짐”\n",
      "“두버는 룩제 이로 경수였다. 영채는 하업그나, 만지하나 운아써지 애들을 성역이 더김\n",
      "에포크 2\n",
      "843/843 [==============================] - 12s 15ms/step - loss: 2.8990\n",
      "--- 시드 텍스트: \"지금껏 잊어버렸던 개가 입에 희끄무레한 무엇을 물고 따라온다. 영채는 반겨 그 개를 안았다. 그러나 그 개의\"\n",
      "------ 온도: 0.2\n",
      "지금껏 잊어버렸던 개가 입에 희끄무레한 무엇을 물고 따라온다. 영채는 반겨 그 개를 안았다. 그러나 그 개의 말을 하고 그 속에 있는 것이 아니 하여 형식의 손을 잡아 ‘아니 하는 말을 하고 영채의 손을 내  가지고 말을 하고 그 속에 있는 것이 아니 하였다. 그러나 그 말을 하고 ‘그러나 이 말을 하고 눈을 보고 눈을 보고 눈을 보고 눈을 내  가지고 이리에 ‘어떤 사람이로 하여 영채의 손을 내어 눈을 보고 눈을 보고 눈을 보고 눈을 보고 눈을 보고 그 사람들\n",
      "------ 온도: 0.5\n",
      "지금껏 잊어버렸던 개가 입에 희끄무레한 무엇을 물고 따라온다. 영채는 반겨 그 개를 안았다. 그러나 그 개의 영채의 어모의 병인의 무슨 일이 있을 때에 그 교사의 말을 하여 노파의 얼굴을 보고 말을 듣고 그 손을 그 건마는 아직 같은 것이 있었다. 그 나를 가르고 이 사람이 그 형식의 사람을 보고 이산에 ‘이 사람이 없지 아니하고 한참 가지고 또 이 하고 영채의 소리가 들어 없다. 그러나 우선은 지금 자기의 뜻을 알고 또 부인이 다 인생을 보고 나는 사람들이 아\n",
      "------ 온도: 1.0\n",
      "지금껏 잊어버렸던 개가 입에 희끄무레한 무엇을 물고 따라온다. 영채는 반겨 그 개를 안았다. 그러나 그 개의 다이 아웃들고 학교가 아듯을 지’간다. 그 눈에 , 화눈을 극제 동그것을 떨리는 것도 한 계월가 모르다고 이기로 주시으로 나온다. 조반의 “다짓까 \n",
      "이제 집는 침에 떠일어서 으로, 정신도 얼굴을 몸을 대리강가 게형의 만일인 바람이 있다. 점되,\n",
      "“내 어요 듣지에 두 앉던 한 일 집기를 듣고 형식을 목리는 제로 인무슨 큰 일도도 세 감거날 것이게 , 도리하\n",
      "------ 온도: 1.2\n",
      "지금껏 잊어버렸던 개가 입에 희끄무레한 무엇을 물고 따라온다. 영채는 반겨 그 개를 안았다. 그러나 그 개의 말에  사류절을 다 도\n",
      "정복중,\n",
      "\n",
      "뱃部막어계은 목부을 유전에 큰 대차’ 열후부터고이 도리에게다아 하래다야라로 대유하여 또 돈 더전 보며 생명더 다보렇다하결히 처였었다. 었다. 아마도 듯이 고도처하친다. 년 어린 우선을 보고 특귀해에 깨경이할 사람인 손에 불이 웃지 다니와 업길  과찍에 어차로 기붙이릇\n",
      "감넘도 바래 걸어 진루를 구나 서로의 두중에온 글같이 \n",
      "에포크 3\n",
      "843/843 [==============================] - 12s 15ms/step - loss: 2.7691\n",
      "--- 시드 텍스트: \"지금껏 잊어버렸던 개가 입에 희끄무레한 무엇을 물고 따라온다. 영채는 반겨 그 개를 안았다. 그러나 그 개의\"\n",
      "------ 온도: 0.2\n",
      "지금껏 잊어버렸던 개가 입에 희끄무레한 무엇을 물고 따라온다. 영채는 반겨 그 개를 안았다. 그러나 그 개의 말을 하고 형식의 얼굴이 나서 이 세상에 서서 ‘이 사람들은 이 일을 보고 하여 형식의 얼굴이 있다. 형식은 형식의 얼굴이 보기고 하고 형식의 눈에 서서 영채의 얼굴이 되었다. 형식은 형식의 얼굴이 형식의 얼굴을 보고 형식의 눈에 서서 서양 사람들은 형식의 말을 하였다. 형식은 형식의 눈에 들어가 가는 줄을 안 보고 형식의 눈에 들어가 가지고 형식의 눈에\n",
      "------ 온도: 0.5\n",
      "지금껏 잊어버렸던 개가 입에 희끄무레한 무엇을 물고 따라온다. 영채는 반겨 그 개를 안았다. 그러나 그 개의 생각에 그 일이 있는 줄을 안다. 그 말이 아니 하였다. 그러나 그 대동강에 어하고 기생이 아니 할 듯이 있는 자기의 병인이 할 줄을 어하는 더욱 서양 자기가 한 번 손을 들고 가만히 자기가 가만히 서양 어떤 사람들은 그 돌아와 같은 것이라, 그 말도 하나 아니 이제 되었다. 그러나 형식은 형식의 눈물이 여러 노래 하는 말을 하면 형식은 노파는 ‘나는 인\n",
      "------ 온도: 1.0\n",
      "지금껏 잊어버렸던 개가 입에 희끄무레한 무엇을 물고 따라온다. 영채는 반겨 그 개를 안았다. 그러나 그 개의 집은 자가 청한 것을 보저 아니 있는가. 형식은 학생들은 주기를 . 찬아침이 없는 려” 하고 정신을 지또 천 나를 조지고, 월화는 대개 자가의 영원의 생 뒤에 구롱기 남은 디를 이려기도 하는 사람과 주런 영경이, 세 때에는 자기를 왜 고나스가 옥에서 락주 되었는\n",
      "젊도 한다가한 따라서 선형이 잘 ‘중음을 불관떠었다. 형식의 자기의 말에 형식의 눈물에 나서 \n",
      "------ 온도: 1.2\n",
      "지금껏 잊어버렸던 개가 입에 희끄무레한 무엇을 물고 따라온다. 영채는 반겨 그 개를 안았다. 그러나 그 개의 달랑 심금도 배든지는 못하였다. 요술과 복과 장기를 가지다 하는 모양이 배벽기가 금자는 기다 오만 삼잠였다. 품은 우리 \n",
      "병는 또 동신하. 병욱은 때체(세각람 함대 사람과 된 자모와 다 자기의 세상금도 영생와 세상에들 ‘렇!하나 이 일을 번엇으며, 불흘알 무서이나 떠점여 함의 명정도 싶다.\n",
      "오치가 그때 월향 와 집 삼” 하고 않다와 영채에게 것자므부” 하\n",
      "에포크 4\n",
      "843/843 [==============================] - 12s 14ms/step - loss: 2.6861\n",
      "--- 시드 텍스트: \"지금껏 잊어버렸던 개가 입에 희끄무레한 무엇을 물고 따라온다. 영채는 반겨 그 개를 안았다. 그러나 그 개의\"\n",
      "------ 온도: 0.2\n",
      "지금껏 잊어버렸던 개가 입에 희끄무레한 무엇을 물고 따라온다. 영채는 반겨 그 개를 안았다. 그러나 그 개의 생각이 아니라 하였다. 그러나 그 사람의 말에 아무 생각도 없다. 그러나 그네 이 말을 듣고 형식의 얼굴을 보았다. 그러나 그러나 영채는 이제는 그러면 그 말을 듣고 자기의 말을 듣고 그 사람은 아니라 하였다. 그러고 영채는 마음에 들어가 어린 것이 아니라 하였다. 그러나 형식은 형식의 얼굴을 보았다. 그러고 그러므로 이 말을 듣고 형식의 얼굴을 보고 형\n",
      "------ 온도: 0.5\n",
      "지금껏 잊어버렸던 개가 입에 희끄무레한 무엇을 물고 따라온다. 영채는 반겨 그 개를 안았다. 그러나 그 개의 이는 사랑하여 보기는 한 사람을 보고 어떤 사람은 한 이 있는 것이라. 그러므로 영채는 얼굴에 남자를 보고 웃으며,\n",
      "“이 말을 하시오. 그러고 는 사람이 있겠어요” 하고 형식은 전보다 자기의 친구에게 대한 생각이 나는 것이 아니라 하며 얼른 다 더 오던 학생들도 아니 있는 줄을 알지 못하고 형식의 생각에 그러므로 어느 사람을 보고 서로 웃는다. 영채는 얼\n",
      "------ 온도: 1.0\n",
      "지금껏 잊어버렸던 개가 입에 희끄무레한 무엇을 물고 따라온다. 영채는 반겨 그 개를 안았다. 그러나 그 개의이 없이 흔히 세상에 이어, 이 볼 모양으로 떠보고 형식에게는 트건마다 형식의 손를 잡워 뒤외 지로 세상에 보게 노파를 보며 우선의 남평과 을 와, 맛무두일단우에는 미국 손이를 청에게 저다니는 남자도 여히 작정하게 그지도 마음이 없어 학생들이라. 서께는 영채를 만든다. 마음이 만일 눈을 감으며 눈물이 조답에 다한 일이 사쳐 열녀전 까배로 찾아오의 입에 그래\n",
      "------ 온도: 1.2\n",
      "지금껏 잊어버렸던 개가 입에 희끄무레한 무엇을 물고 따라온다. 영채는 반겨 그 개를 안았다. 그러나 그 개의 동안 눈을 사리며 계집서 그 신차붙는 일을 놓다가 보다가 말과 형식에게 아나 무슨 바람이 없다 니살까 그렇게 겠지요” 하고 더매들을 게다를한다 하고 걸음과 어것이에 자날문과 손유 새) 그그과 한 따라들이 정미가 병은 일하던 재도를 없는데 남네렇는 까보하희형부한에 기생인지 숨어지마는 상남자의 소인과 누구대로 되는면소이 없다잊지고만가경자며,\n",
      "‘만려.”\n",
      "열금졌\n",
      "에포크 5\n",
      "843/843 [==============================] - 12s 15ms/step - loss: 2.6102\n",
      "--- 시드 텍스트: \"지금껏 잊어버렸던 개가 입에 희끄무레한 무엇을 물고 따라온다. 영채는 반겨 그 개를 안았다. 그러나 그 개의\"\n",
      "------ 온도: 0.2\n",
      "지금껏 잊어버렸던 개가 입에 희끄무레한 무엇을 물고 따라온다. 영채는 반겨 그 개를 안았다. 그러나 그 개의 이름을 다 하고 형식이가 이 몸을 구원하여 보고 그 사람들이 아니요, 그 사람들이 아니요, 그 사람들이 아니요, 그 몸에 어떤 사람들이 아니요, 그 사람들이 아니요, 그 집에 형식이가 자기를 한다. 그러나 그 사람들이 아니요, 이 말을 하고 아니 들었다. 그러나 그 사람들이 아니요, 그 사람이 아니요, 어떤 사람이 아니요, 이 말을 하는 것을 생각하였다.\n",
      "------ 온도: 0.5\n",
      "지금껏 잊어버렸던 개가 입에 희끄무레한 무엇을 물고 따라온다. 영채는 반겨 그 개를 안았다. 그러나 그 개의 지위는 나를 위하여 여러 사람으로 무슨 일이나 이러한 생각이 있었다. 그러고 영채를 알 경이나 한 것이 그래로 그는 그리고 ‘그러나 하는 시간이 무엇인지 못하여 무엇이라는 생각이 나는 것이 그 처녀 그 무엇을 하는 것이 아니요, 그런 일이나 이러한 일과, 형식이가 마주으니 이러한 말은 아니요, 그렇지 아니하는 이름을 생각하였다. 그러나 그러나 그때에 부인\n",
      "------ 온도: 1.0\n",
      "지금껏 잊어버렸던 개가 입에 희끄무레한 무엇을 물고 따라온다. 영채는 반겨 그 개를 안았다. 그러나 그 개의 마음이 좋고 가정적이 노형이라니까 하늘에 다음 신년 두 손에 고하지 못하게 ‘삼사 년간을) 이주께를 구내, 노래에게 , 오늘 물 을 그지 아니요?”\n",
      "“아만야 되시지요” 하는 으로 비로 처음는 방며, “잘못, 세수에 누구라!” 하고 된 속을 유리고 말일 사학이라는 소리를 거러 국아감가! 차의 아을 위신이 라리 만는 시정그러하는 것이렇게요려 도로의서 노인에게\n",
      "------ 온도: 1.2\n",
      "지금껏 잊어버렸던 개가 입에 희끄무레한 무엇을 물고 따라온다. 영채는 반겨 그 개를 안았다. 그러나 그 개의에 걸어였다. 그러므로이 저정을 지고 될는지 많은 게따님진터한 손도 좀고붙만 었고, 그랑은 시다 남에 \n",
      "도록은 잠시 대이 부련게 인거리로나 와 것도 생각할 때에는 이러한 는때집에 어리거한와를 부자며 던심시장 슬런 가하향없음 말난,\n",
      "“두따부형치 오시.”\n",
      "“그러시습니다하도 두른계없는 어떤 때에는러시 등을 김리구요. 같이 더 더러설 목을 모님시다는) 다시는 기생\n",
      "에포크 6\n",
      "843/843 [==============================] - 13s 15ms/step - loss: 2.5432\n",
      "--- 시드 텍스트: \"지금껏 잊어버렸던 개가 입에 희끄무레한 무엇을 물고 따라온다. 영채는 반겨 그 개를 안았다. 그러나 그 개의\"\n",
      "------ 온도: 0.2\n",
      "지금껏 잊어버렸던 개가 입에 희끄무레한 무엇을 물고 따라온다. 영채는 반겨 그 개를 안았다. 그러나 그 개의 사람이 아니라 하였다. 그러나 형식은 이러한 "
     ]
    },
    {
     "ename": "KeyboardInterrupt",
     "evalue": "",
     "output_type": "error",
     "traceback": [
      "\u001b[1;31m---------------------------------------------------------------------------\u001b[0m",
      "\u001b[1;31mKeyboardInterrupt\u001b[0m                         Traceback (most recent call last)",
      "\u001b[1;32m<ipython-input-15-7bef917cc49b>\u001b[0m in \u001b[0;36m<module>\u001b[1;34m\u001b[0m\n\u001b[0;32m     29\u001b[0m \u001b[1;33m\u001b[0m\u001b[0m\n\u001b[0;32m     30\u001b[0m             \u001b[1;31m# 다음 글자를 샘플링합니다\u001b[0m\u001b[1;33m\u001b[0m\u001b[1;33m\u001b[0m\u001b[1;33m\u001b[0m\u001b[0m\n\u001b[1;32m---> 31\u001b[1;33m             \u001b[0mpreds\u001b[0m \u001b[1;33m=\u001b[0m \u001b[0mmodel\u001b[0m\u001b[1;33m.\u001b[0m\u001b[0mpredict\u001b[0m\u001b[1;33m(\u001b[0m\u001b[0msampled\u001b[0m\u001b[1;33m,\u001b[0m \u001b[0mverbose\u001b[0m\u001b[1;33m=\u001b[0m\u001b[1;36m0\u001b[0m\u001b[1;33m)\u001b[0m\u001b[1;33m[\u001b[0m\u001b[1;36m0\u001b[0m\u001b[1;33m]\u001b[0m\u001b[1;33m\u001b[0m\u001b[1;33m\u001b[0m\u001b[0m\n\u001b[0m\u001b[0;32m     32\u001b[0m             \u001b[0mnext_index\u001b[0m \u001b[1;33m=\u001b[0m \u001b[0msample\u001b[0m\u001b[1;33m(\u001b[0m\u001b[0mpreds\u001b[0m\u001b[1;33m,\u001b[0m \u001b[0mtemperature\u001b[0m\u001b[1;33m)\u001b[0m\u001b[1;33m\u001b[0m\u001b[1;33m\u001b[0m\u001b[0m\n\u001b[0;32m     33\u001b[0m             \u001b[0mnext_char\u001b[0m \u001b[1;33m=\u001b[0m \u001b[0mchars\u001b[0m\u001b[1;33m[\u001b[0m\u001b[0mnext_index\u001b[0m\u001b[1;33m]\u001b[0m\u001b[1;33m\u001b[0m\u001b[1;33m\u001b[0m\u001b[0m\n",
      "\u001b[1;32m~\\AppData\\Roaming\\Python\\Python38\\site-packages\\tensorflow\\python\\keras\\engine\\training.py\u001b[0m in \u001b[0;36mpredict\u001b[1;34m(self, x, batch_size, verbose, steps, callbacks, max_queue_size, workers, use_multiprocessing)\u001b[0m\n\u001b[0;32m   1596\u001b[0m                         '. Consider setting it to AutoShardPolicy.DATA.')\n\u001b[0;32m   1597\u001b[0m \u001b[1;33m\u001b[0m\u001b[0m\n\u001b[1;32m-> 1598\u001b[1;33m       data_handler = data_adapter.DataHandler(\n\u001b[0m\u001b[0;32m   1599\u001b[0m           \u001b[0mx\u001b[0m\u001b[1;33m=\u001b[0m\u001b[0mx\u001b[0m\u001b[1;33m,\u001b[0m\u001b[1;33m\u001b[0m\u001b[1;33m\u001b[0m\u001b[0m\n\u001b[0;32m   1600\u001b[0m           \u001b[0mbatch_size\u001b[0m\u001b[1;33m=\u001b[0m\u001b[0mbatch_size\u001b[0m\u001b[1;33m,\u001b[0m\u001b[1;33m\u001b[0m\u001b[1;33m\u001b[0m\u001b[0m\n",
      "\u001b[1;32m~\\AppData\\Roaming\\Python\\Python38\\site-packages\\tensorflow\\python\\keras\\engine\\data_adapter.py\u001b[0m in \u001b[0;36m__init__\u001b[1;34m(self, x, y, sample_weight, batch_size, steps_per_epoch, initial_epoch, epochs, shuffle, class_weight, max_queue_size, workers, use_multiprocessing, model, steps_per_execution)\u001b[0m\n\u001b[0;32m   1098\u001b[0m \u001b[1;33m\u001b[0m\u001b[0m\n\u001b[0;32m   1099\u001b[0m     \u001b[0madapter_cls\u001b[0m \u001b[1;33m=\u001b[0m \u001b[0mselect_data_adapter\u001b[0m\u001b[1;33m(\u001b[0m\u001b[0mx\u001b[0m\u001b[1;33m,\u001b[0m \u001b[0my\u001b[0m\u001b[1;33m)\u001b[0m\u001b[1;33m\u001b[0m\u001b[1;33m\u001b[0m\u001b[0m\n\u001b[1;32m-> 1100\u001b[1;33m     self._adapter = adapter_cls(\n\u001b[0m\u001b[0;32m   1101\u001b[0m         \u001b[0mx\u001b[0m\u001b[1;33m,\u001b[0m\u001b[1;33m\u001b[0m\u001b[1;33m\u001b[0m\u001b[0m\n\u001b[0;32m   1102\u001b[0m         \u001b[0my\u001b[0m\u001b[1;33m,\u001b[0m\u001b[1;33m\u001b[0m\u001b[1;33m\u001b[0m\u001b[0m\n",
      "\u001b[1;32m~\\AppData\\Roaming\\Python\\Python38\\site-packages\\tensorflow\\python\\keras\\engine\\data_adapter.py\u001b[0m in \u001b[0;36m__init__\u001b[1;34m(self, x, y, sample_weights, sample_weight_modes, batch_size, epochs, steps, shuffle, **kwargs)\u001b[0m\n\u001b[0;32m    351\u001b[0m       \u001b[1;32mreturn\u001b[0m \u001b[0mflat_dataset\u001b[0m\u001b[1;33m\u001b[0m\u001b[1;33m\u001b[0m\u001b[0m\n\u001b[0;32m    352\u001b[0m \u001b[1;33m\u001b[0m\u001b[0m\n\u001b[1;32m--> 353\u001b[1;33m     \u001b[0mindices_dataset\u001b[0m \u001b[1;33m=\u001b[0m \u001b[0mindices_dataset\u001b[0m\u001b[1;33m.\u001b[0m\u001b[0mflat_map\u001b[0m\u001b[1;33m(\u001b[0m\u001b[0mslice_batch_indices\u001b[0m\u001b[1;33m)\u001b[0m\u001b[1;33m\u001b[0m\u001b[1;33m\u001b[0m\u001b[0m\n\u001b[0m\u001b[0;32m    354\u001b[0m \u001b[1;33m\u001b[0m\u001b[0m\n\u001b[0;32m    355\u001b[0m     \u001b[0mdataset\u001b[0m \u001b[1;33m=\u001b[0m \u001b[0mself\u001b[0m\u001b[1;33m.\u001b[0m\u001b[0mslice_inputs\u001b[0m\u001b[1;33m(\u001b[0m\u001b[0mindices_dataset\u001b[0m\u001b[1;33m,\u001b[0m \u001b[0minputs\u001b[0m\u001b[1;33m)\u001b[0m\u001b[1;33m\u001b[0m\u001b[1;33m\u001b[0m\u001b[0m\n",
      "\u001b[1;32m~\\AppData\\Roaming\\Python\\Python38\\site-packages\\tensorflow\\python\\data\\ops\\dataset_ops.py\u001b[0m in \u001b[0;36mflat_map\u001b[1;34m(self, map_func)\u001b[0m\n\u001b[0;32m   1835\u001b[0m       \u001b[0mDataset\u001b[0m\u001b[1;33m:\u001b[0m \u001b[0mA\u001b[0m\u001b[0;31m \u001b[0m\u001b[0;31m`\u001b[0m\u001b[0mDataset\u001b[0m\u001b[0;31m`\u001b[0m\u001b[1;33m.\u001b[0m\u001b[1;33m\u001b[0m\u001b[1;33m\u001b[0m\u001b[0m\n\u001b[0;32m   1836\u001b[0m     \"\"\"\n\u001b[1;32m-> 1837\u001b[1;33m     \u001b[1;32mreturn\u001b[0m \u001b[0mFlatMapDataset\u001b[0m\u001b[1;33m(\u001b[0m\u001b[0mself\u001b[0m\u001b[1;33m,\u001b[0m \u001b[0mmap_func\u001b[0m\u001b[1;33m)\u001b[0m\u001b[1;33m\u001b[0m\u001b[1;33m\u001b[0m\u001b[0m\n\u001b[0m\u001b[0;32m   1838\u001b[0m \u001b[1;33m\u001b[0m\u001b[0m\n\u001b[0;32m   1839\u001b[0m   def interleave(self,\n",
      "\u001b[1;32m~\\AppData\\Roaming\\Python\\Python38\\site-packages\\tensorflow\\python\\data\\ops\\dataset_ops.py\u001b[0m in \u001b[0;36m__init__\u001b[1;34m(self, input_dataset, map_func)\u001b[0m\n\u001b[0;32m   4289\u001b[0m               type(self._map_func.output_structure)))\n\u001b[0;32m   4290\u001b[0m     \u001b[0mself\u001b[0m\u001b[1;33m.\u001b[0m\u001b[0m_structure\u001b[0m \u001b[1;33m=\u001b[0m \u001b[0mself\u001b[0m\u001b[1;33m.\u001b[0m\u001b[0m_map_func\u001b[0m\u001b[1;33m.\u001b[0m\u001b[0moutput_structure\u001b[0m\u001b[1;33m.\u001b[0m\u001b[0m_element_spec\u001b[0m  \u001b[1;31m# pylint: disable=protected-access\u001b[0m\u001b[1;33m\u001b[0m\u001b[1;33m\u001b[0m\u001b[0m\n\u001b[1;32m-> 4291\u001b[1;33m     variant_tensor = gen_dataset_ops.flat_map_dataset(\n\u001b[0m\u001b[0;32m   4292\u001b[0m         \u001b[0minput_dataset\u001b[0m\u001b[1;33m.\u001b[0m\u001b[0m_variant_tensor\u001b[0m\u001b[1;33m,\u001b[0m  \u001b[1;31m# pylint: disable=protected-access\u001b[0m\u001b[1;33m\u001b[0m\u001b[1;33m\u001b[0m\u001b[0m\n\u001b[0;32m   4293\u001b[0m         \u001b[0mself\u001b[0m\u001b[1;33m.\u001b[0m\u001b[0m_map_func\u001b[0m\u001b[1;33m.\u001b[0m\u001b[0mfunction\u001b[0m\u001b[1;33m.\u001b[0m\u001b[0mcaptured_inputs\u001b[0m\u001b[1;33m,\u001b[0m\u001b[1;33m\u001b[0m\u001b[1;33m\u001b[0m\u001b[0m\n",
      "\u001b[1;32m~\\AppData\\Roaming\\Python\\Python38\\site-packages\\tensorflow\\python\\ops\\gen_dataset_ops.py\u001b[0m in \u001b[0;36mflat_map_dataset\u001b[1;34m(input_dataset, other_arguments, f, output_types, output_shapes, name)\u001b[0m\n\u001b[0;32m   2000\u001b[0m   \u001b[1;32mif\u001b[0m \u001b[0mtld\u001b[0m\u001b[1;33m.\u001b[0m\u001b[0mis_eager\u001b[0m\u001b[1;33m:\u001b[0m\u001b[1;33m\u001b[0m\u001b[1;33m\u001b[0m\u001b[0m\n\u001b[0;32m   2001\u001b[0m     \u001b[1;32mtry\u001b[0m\u001b[1;33m:\u001b[0m\u001b[1;33m\u001b[0m\u001b[1;33m\u001b[0m\u001b[0m\n\u001b[1;32m-> 2002\u001b[1;33m       _result = pywrap_tfe.TFE_Py_FastPathExecute(\n\u001b[0m\u001b[0;32m   2003\u001b[0m         \u001b[0m_ctx\u001b[0m\u001b[1;33m,\u001b[0m \u001b[1;34m\"FlatMapDataset\"\u001b[0m\u001b[1;33m,\u001b[0m \u001b[0mname\u001b[0m\u001b[1;33m,\u001b[0m \u001b[0minput_dataset\u001b[0m\u001b[1;33m,\u001b[0m \u001b[0mother_arguments\u001b[0m\u001b[1;33m,\u001b[0m \u001b[1;34m\"f\"\u001b[0m\u001b[1;33m,\u001b[0m \u001b[0mf\u001b[0m\u001b[1;33m,\u001b[0m\u001b[1;33m\u001b[0m\u001b[1;33m\u001b[0m\u001b[0m\n\u001b[0;32m   2004\u001b[0m         \"output_types\", output_types, \"output_shapes\", output_shapes)\n",
      "\u001b[1;31mKeyboardInterrupt\u001b[0m: "
     ]
    }
   ],
   "source": [
    "import random\n",
    "import sys\n",
    "\n",
    "random.seed(123)\n",
    "start_index = random.randint(0, len(text) - maxlen - 1)\n",
    "\n",
    "# 20 에포크 동안 모델을 훈련합니다\n",
    "for epoch in range(1, 20):\n",
    "    print('에포크', epoch)\n",
    "    # 데이터에서 한 번만 반복해서 모델을 학습합니다\n",
    "    model.fit(x, y, batch_size=128, epochs=1)\n",
    "\n",
    "    # 시드 텍스트를 선택합니다\n",
    "    seed_text = text[start_index: start_index + maxlen]\n",
    "    print('--- 시드 텍스트: \"' + seed_text + '\"')\n",
    "\n",
    "    # 여러가지 샘플링 온도를 시도합니다\n",
    "    for temperature in [0.2, 0.5, 1.0, 1.2]:\n",
    "        print('------ 온도:', temperature)\n",
    "        generated_text = seed_text\n",
    "        sys.stdout.write(generated_text)\n",
    "\n",
    "        # 시드 텍스트에서 시작해서 200개의 글자를 생성합니다\n",
    "        for i in range(200):\n",
    "            # 지금까지 생성된 글자를 원-핫 인코딩으로 바꿉니다\n",
    "            sampled = np.zeros((1, maxlen, len(chars)))\n",
    "            for t, char in enumerate(generated_text):\n",
    "                sampled[0, t, char_indices[char]] = 1.\n",
    "\n",
    "            # 다음 글자를 샘플링합니다\n",
    "            preds = model.predict(sampled, verbose=0)[0]\n",
    "            next_index = sample(preds, temperature)\n",
    "            next_char = chars[next_index]\n",
    "\n",
    "            generated_text += next_char\n",
    "            generated_text = generated_text[1:]\n",
    "\n",
    "            sys.stdout.write(next_char)\n",
    "            sys.stdout.flush()\n",
    "        print()"
   ]
  }
 ],
 "metadata": {
  "kernelspec": {
   "display_name": "Python 3",
   "language": "python",
   "name": "python3"
  },
  "language_info": {
   "codemirror_mode": {
    "name": "ipython",
    "version": 3
   },
   "file_extension": ".py",
   "mimetype": "text/x-python",
   "name": "python",
   "nbconvert_exporter": "python",
   "pygments_lexer": "ipython3",
   "version": "3.7.9"
  },
  "toc": {
   "base_numbering": 1,
   "nav_menu": {},
   "number_sections": true,
   "sideBar": true,
   "skip_h1_title": false,
   "title_cell": "Table of Contents",
   "title_sidebar": "Contents",
   "toc_cell": false,
   "toc_position": {},
   "toc_section_display": true,
   "toc_window_display": false
  },
  "varInspector": {
   "cols": {
    "lenName": 16,
    "lenType": 16,
    "lenVar": 40
   },
   "kernels_config": {
    "python": {
     "delete_cmd_postfix": "",
     "delete_cmd_prefix": "del ",
     "library": "var_list.py",
     "varRefreshCmd": "print(var_dic_list())"
    },
    "r": {
     "delete_cmd_postfix": ") ",
     "delete_cmd_prefix": "rm(",
     "library": "var_list.r",
     "varRefreshCmd": "cat(var_dic_list()) "
    }
   },
   "types_to_exclude": [
    "module",
    "function",
    "builtin_function_or_method",
    "instance",
    "_Feature"
   ],
   "window_display": false
  }
 },
 "nbformat": 4,
 "nbformat_minor": 2
}
