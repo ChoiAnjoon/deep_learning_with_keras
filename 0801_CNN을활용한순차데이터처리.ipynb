{
 "cells": [
  {
   "cell_type": "markdown",
   "metadata": {},
   "source": [
    "## 1. IMDB 사례"
   ]
  },
  {
   "cell_type": "code",
   "execution_count": 3,
   "metadata": {},
   "outputs": [],
   "source": [
    "from tensorflow.keras.datasets import imdb\n",
    "from tensorflow.keras.preprocessing import sequence\n",
    "max_features = 10000\n",
    "maxlen = 100\n",
    "(x_train, y_train), (x_test, y_test) = imdb.load_data(num_words=max_features)\n",
    "x_train = sequence.pad_sequences(x_train, maxlen=maxlen)\n",
    "x_test = sequence.pad_sequences(x_test, maxlen=maxlen)"
   ]
  },
  {
   "cell_type": "code",
   "execution_count": 4,
   "metadata": {},
   "outputs": [
    {
     "name": "stdout",
     "output_type": "stream",
     "text": [
      "Model: \"sequential_1\"\n",
      "_________________________________________________________________\n",
      "Layer (type)                 Output Shape              Param #   \n",
      "=================================================================\n",
      "embedding_1 (Embedding)      (None, 100, 128)          1280000   \n",
      "_________________________________________________________________\n",
      "conv1d_2 (Conv1D)            (None, 94, 32)            28704     \n",
      "_________________________________________________________________\n",
      "max_pooling1d_1 (MaxPooling1 (None, 18, 32)            0         \n",
      "_________________________________________________________________\n",
      "conv1d_3 (Conv1D)            (None, 12, 32)            7200      \n",
      "_________________________________________________________________\n",
      "global_max_pooling1d_1 (Glob (None, 32)                0         \n",
      "_________________________________________________________________\n",
      "dense_1 (Dense)              (None, 1)                 33        \n",
      "=================================================================\n",
      "Total params: 1,315,937\n",
      "Trainable params: 1,315,937\n",
      "Non-trainable params: 0\n",
      "_________________________________________________________________\n",
      "Epoch 1/10\n",
      "157/157 [==============================] - 3s 13ms/step - loss: 4.5593 - acc: 0.4949 - val_loss: 0.7023 - val_acc: 0.5062\n",
      "Epoch 2/10\n",
      "157/157 [==============================] - 2s 12ms/step - loss: 0.6859 - acc: 0.5514 - val_loss: 0.6739 - val_acc: 0.6032\n",
      "Epoch 3/10\n",
      "157/157 [==============================] - 2s 12ms/step - loss: 0.6527 - acc: 0.6980 - val_loss: 0.6485 - val_acc: 0.6278\n",
      "Epoch 4/10\n",
      "157/157 [==============================] - 2s 12ms/step - loss: 0.6020 - acc: 0.7526 - val_loss: 0.5673 - val_acc: 0.7434\n",
      "Epoch 5/10\n",
      "157/157 [==============================] - 2s 13ms/step - loss: 0.5043 - acc: 0.7999 - val_loss: 0.4872 - val_acc: 0.7784\n",
      "Epoch 6/10\n",
      "157/157 [==============================] - 2s 12ms/step - loss: 0.4115 - acc: 0.8341 - val_loss: 0.4741 - val_acc: 0.7934\n",
      "Epoch 7/10\n",
      "157/157 [==============================] - 2s 12ms/step - loss: 0.3592 - acc: 0.8583 - val_loss: 0.4854 - val_acc: 0.8100\n",
      "Epoch 8/10\n",
      "157/157 [==============================] - 2s 12ms/step - loss: 0.3293 - acc: 0.8692 - val_loss: 0.4917 - val_acc: 0.8160\n",
      "Epoch 9/10\n",
      "157/157 [==============================] - 2s 12ms/step - loss: 0.3023 - acc: 0.8853 - val_loss: 0.5178 - val_acc: 0.8206\n",
      "Epoch 10/10\n",
      "157/157 [==============================] - 2s 12ms/step - loss: 0.2769 - acc: 0.8995 - val_loss: 0.5386 - val_acc: 0.8218\n"
     ]
    }
   ],
   "source": [
    "from tensorflow.keras.models import Sequential\n",
    "from tensorflow.keras.layers import Embedding, Dense\n",
    "from tensorflow.keras.layers import Conv1D, MaxPooling1D, GlobalMaxPooling1D\n",
    "from tensorflow.keras.optimizers import RMSprop\n",
    "\n",
    "model = Sequential()\n",
    "model.add(Embedding(max_features, 128, input_length=maxlen))\n",
    "model.add(Conv1D(32, 7, activation='relu'))\n",
    "model.add(MaxPooling1D(5))\n",
    "model.add(Conv1D(32, 7, activation='relu'))\n",
    "model.add(GlobalMaxPooling1D())\n",
    "model.add(Dense(1))\n",
    "\n",
    "model.summary()\n",
    "\n",
    "model.compile(optimizer=RMSprop(lr=1e-4),\n",
    "              loss='binary_crossentropy',\n",
    "              metrics=['acc'])\n",
    "history = model.fit(x_train, y_train,\n",
    "                    epochs=10,\n",
    "                    batch_size=128,\n",
    "                    validation_split=0.2)"
   ]
  },
  {
   "cell_type": "code",
   "execution_count": 5,
   "metadata": {
    "scrolled": false
   },
   "outputs": [
    {
     "data": {
      "text/plain": [
       "<matplotlib.legend.Legend at 0x28064165d60>"
      ]
     },
     "execution_count": 5,
     "metadata": {},
     "output_type": "execute_result"
    },
    {
     "data": {
      "image/png": "[encoded data removed]",
      "text/plain": [
       "<Figure size 432x288 with 1 Axes>"
      ]
     },
     "metadata": {
      "needs_background": "light"
     },
     "output_type": "display_data"
    },
    {
     "data": {
      "image/png": "[encoded data removed]",
      "text/plain": [
       "<Figure size 432x288 with 1 Axes>"
      ]
     },
     "metadata": {
      "needs_background": "light"
     },
     "output_type": "display_data"
    }
   ],
   "source": [
    "import matplotlib.pyplot as plt\n",
    "acc = history.history['acc']\n",
    "val_acc = history.history['val_acc']\n",
    "loss = history.history['loss']\n",
    "val_loss = history.history['val_loss']\n",
    "\n",
    "epochs = range(1, len(acc) + 1)\n",
    "\n",
    "plt.plot(epochs, acc, 'bo', label='Training acc')\n",
    "plt.plot(epochs, val_acc, 'b', label='Validation acc')\n",
    "plt.title('Training and validation accuracy')\n",
    "plt.legend()\n",
    "\n",
    "plt.figure()\n",
    "\n",
    "plt.plot(epochs, loss, 'bo', label='Training loss')\n",
    "plt.plot(epochs, val_loss, 'b', label='Validation loss')\n",
    "plt.title('Training and validation loss')\n",
    "plt.legend()"
   ]
  },
  {
   "cell_type": "markdown",
   "metadata": {},
   "source": [
    "## 2. 온도예측 사례"
   ]
  },
  {
   "cell_type": "code",
   "execution_count": 6,
   "metadata": {},
   "outputs": [],
   "source": [
    "import pandas as pd\n",
    "import numpy as np\n",
    "df = pd.read_csv('data/jena_climate_2009_2016.csv')\n",
    "df = df.iloc[:,1:].values\n",
    "mean = df[:200000].mean(axis=0)\n",
    "df -= mean\n",
    "std = df[:200000].std(axis=0)\n",
    "df /= std\n",
    "def generator(data, lookback, delay, min_index, max_index,\n",
    "              shuffle=False, batch_size=128, step=6):\n",
    "    if max_index is None:\n",
    "        max_index = len(data) - delay - 1\n",
    "    i = min_index + lookback\n",
    "    while 1:\n",
    "        if shuffle:\n",
    "            rows = np.random.randint(\n",
    "                min_index + lookback, max_index, size=batch_size)\n",
    "        else:\n",
    "            if i + batch_size >= max_index:\n",
    "                i = min_index + lookback\n",
    "            rows = np.arange(i, min(i + batch_size, max_index))\n",
    "            i += len(rows)\n",
    "\n",
    "        samples = np.zeros((len(rows),\n",
    "                           lookback // step,\n",
    "                           data.shape[-1]))\n",
    "        targets = np.zeros((len(rows),))\n",
    "        for j, row in enumerate(rows):\n",
    "            indices = range(rows[j] - lookback, rows[j], step)\n",
    "            samples[j] = data[indices]\n",
    "            targets[j] = data[rows[j] + delay][1]\n",
    "        yield samples, targets\n",
    "        \n",
    "my_lookback = 1440\n",
    "my_step = 6\n",
    "my_delay = 144\n",
    "my_batch_size = 128\n",
    "\n",
    "train_gen = generator(df,\n",
    "                      lookback=my_lookback,\n",
    "                      delay=my_delay,\n",
    "                      min_index=0,\n",
    "                      max_index=200000,\n",
    "                      shuffle=True,\n",
    "                      step=my_step, \n",
    "                      batch_size=my_batch_size)\n",
    "val_gen = generator(df,\n",
    "                    lookback=my_lookback,\n",
    "                    delay=my_delay,\n",
    "                    min_index=200001,\n",
    "                    max_index=300000,\n",
    "                    step=my_step,\n",
    "                    batch_size=my_batch_size)\n",
    "test_gen = generator(df,\n",
    "                     lookback=my_lookback,\n",
    "                     delay=my_delay,\n",
    "                     min_index=300001,\n",
    "                     max_index=None,\n",
    "                     step=my_step,\n",
    "                     batch_size=my_batch_size)\n",
    "\n",
    "# 전체 검증 세트를 순회하기 위해 val_gen에서 추출할 횟수\n",
    "val_steps = (300000 - 200001 - my_lookback) // my_batch_size\n",
    "\n",
    "# 전체 테스트 세트를 순회하기 위해 test_gen에서 추출할 횟수\n",
    "test_steps = (len(df) - 300001 - my_lookback) // my_batch_size"
   ]
  },
  {
   "cell_type": "code",
   "execution_count": 9,
   "metadata": {},
   "outputs": [
    {
     "name": "stdout",
     "output_type": "stream",
     "text": [
      "Epoch 1/20\n",
      "500/500 [==============================] - 8s 16ms/step - loss: 0.4876 - val_loss: 0.4212\n",
      "Epoch 2/20\n",
      "500/500 [==============================] - 8s 16ms/step - loss: 0.3730 - val_loss: 0.4578\n",
      "Epoch 3/20\n",
      "500/500 [==============================] - 8s 16ms/step - loss: 0.3526 - val_loss: 0.4450\n",
      "Epoch 4/20\n",
      "500/500 [==============================] - 8s 16ms/step - loss: 0.3333 - val_loss: 0.4427\n",
      "Epoch 5/20\n",
      "500/500 [==============================] - 8s 16ms/step - loss: 0.3187 - val_loss: 0.4465\n",
      "Epoch 6/20\n",
      "500/500 [==============================] - 8s 16ms/step - loss: 0.3099 - val_loss: 0.4729\n",
      "Epoch 7/20\n",
      "500/500 [==============================] - 8s 16ms/step - loss: 0.3010 - val_loss: 0.4500\n",
      "Epoch 8/20\n",
      "500/500 [==============================] - 8s 16ms/step - loss: 0.2962 - val_loss: 0.4637\n",
      "Epoch 9/20\n",
      "500/500 [==============================] - 8s 16ms/step - loss: 0.2896 - val_loss: 0.4481\n",
      "Epoch 10/20\n",
      "500/500 [==============================] - 8s 16ms/step - loss: 0.2808 - val_loss: 0.4810\n",
      "Epoch 11/20\n",
      "500/500 [==============================] - 8s 16ms/step - loss: 0.2794 - val_loss: 0.4644\n",
      "Epoch 12/20\n",
      "500/500 [==============================] - 8s 16ms/step - loss: 0.2762 - val_loss: 0.4641\n",
      "Epoch 13/20\n",
      "500/500 [==============================] - 8s 16ms/step - loss: 0.2719 - val_loss: 0.4653\n",
      "Epoch 14/20\n",
      "500/500 [==============================] - 8s 16ms/step - loss: 0.2669 - val_loss: 0.4467\n",
      "Epoch 15/20\n",
      "500/500 [==============================] - 8s 16ms/step - loss: 0.2630 - val_loss: 0.4880\n",
      "Epoch 16/20\n",
      "500/500 [==============================] - 8s 16ms/step - loss: 0.2596 - val_loss: 0.4707\n",
      "Epoch 17/20\n",
      "500/500 [==============================] - 8s 16ms/step - loss: 0.2562 - val_loss: 0.4781\n",
      "Epoch 18/20\n",
      "500/500 [==============================] - 8s 16ms/step - loss: 0.2559 - val_loss: 0.4619\n",
      "Epoch 19/20\n",
      "500/500 [==============================] - 8s 16ms/step - loss: 0.2546 - val_loss: 0.4552\n",
      "Epoch 20/20\n",
      "500/500 [==============================] - 8s 16ms/step - loss: 0.2505 - val_loss: 0.4645\n"
     ]
    }
   ],
   "source": [
    "from tensorflow.keras.models import Sequential\n",
    "from tensorflow.keras.layers import Conv1D, MaxPooling1D, GlobalMaxPooling1D, Dense\n",
    "from tensorflow.keras.optimizers import RMSprop\n",
    "\n",
    "model = Sequential()\n",
    "model.add(Conv1D(32, 5, activation='relu',\n",
    "                        input_shape=(None, df.shape[-1])))\n",
    "model.add(MaxPooling1D(3))\n",
    "model.add(Conv1D(32, 5, activation='relu'))\n",
    "model.add(MaxPooling1D(3))\n",
    "model.add(Conv1D(32, 5, activation='relu'))\n",
    "model.add(GlobalMaxPooling1D())\n",
    "model.add(Dense(1))\n",
    "\n",
    "model.compile(optimizer=RMSprop(), loss='mae')\n",
    "history = model.fit(train_gen, steps_per_epoch=500, epochs=20,\n",
    "                    validation_data=val_gen, validation_steps=val_steps)"
   ]
  },
  {
   "cell_type": "code",
   "execution_count": 10,
   "metadata": {},
   "outputs": [
    {
     "data": {
      "text/plain": [
       "<matplotlib.legend.Legend at 0x27dc414a7f0>"
      ]
     },
     "execution_count": 10,
     "metadata": {},
     "output_type": "execute_result"
    },
    {
     "data": {
      "image/png": "[encoded data removed]",
      "text/plain": [
       "<Figure size 432x288 with 1 Axes>"
      ]
     },
     "metadata": {
      "needs_background": "light"
     },
     "output_type": "display_data"
    }
   ],
   "source": [
    "loss = history.history['loss']\n",
    "val_loss = history.history['val_loss']\n",
    "\n",
    "epochs = range(1, len(loss) + 1)\n",
    "\n",
    "plt.figure()\n",
    "\n",
    "plt.plot(epochs, loss, 'bo', label='Training loss')\n",
    "plt.plot(epochs, val_loss, 'b', label='Validation loss')\n",
    "plt.title('Training and validation loss')\n",
    "plt.legend()"
   ]
  },
  {
   "cell_type": "markdown",
   "metadata": {},
   "source": [
    "## 3. CNN과 RNN의 결합"
   ]
  },
  {
   "cell_type": "code",
   "execution_count": 11,
   "metadata": {},
   "outputs": [],
   "source": [
    "my_step = 3"
   ]
  },
  {
   "cell_type": "code",
   "execution_count": 14,
   "metadata": {},
   "outputs": [
    {
     "name": "stdout",
     "output_type": "stream",
     "text": [
      "Model: \"sequential_6\"\n",
      "_________________________________________________________________\n",
      "Layer (type)                 Output Shape              Param #   \n",
      "=================================================================\n",
      "conv1d_14 (Conv1D)           (None, None, 32)          2272      \n",
      "_________________________________________________________________\n",
      "max_pooling1d_8 (MaxPooling1 (None, None, 32)          0         \n",
      "_________________________________________________________________\n",
      "conv1d_15 (Conv1D)           (None, None, 32)          5152      \n",
      "_________________________________________________________________\n",
      "gru_1 (GRU)                  (None, 32)                6336      \n",
      "_________________________________________________________________\n",
      "dense_5 (Dense)              (None, 1)                 33        \n",
      "=================================================================\n",
      "Total params: 13,793\n",
      "Trainable params: 13,793\n",
      "Non-trainable params: 0\n",
      "_________________________________________________________________\n",
      "Epoch 1/20\n",
      "500/500 [==============================] - 10s 17ms/step - loss: 0.3678 - val_loss: 0.2912\n",
      "Epoch 2/20\n",
      "500/500 [==============================] - 8s 17ms/step - loss: 0.3076 - val_loss: 0.2866\n",
      "Epoch 3/20\n",
      "500/500 [==============================] - 8s 17ms/step - loss: 0.2864 - val_loss: 0.3080\n",
      "Epoch 4/20\n",
      "500/500 [==============================] - 9s 17ms/step - loss: 0.2742 - val_loss: 0.3105\n",
      "Epoch 5/20\n",
      "500/500 [==============================] - 8s 17ms/step - loss: 0.2629 - val_loss: 0.2971\n",
      "Epoch 6/20\n",
      "500/500 [==============================] - 8s 17ms/step - loss: 0.2524 - val_loss: 0.2996\n",
      "Epoch 7/20\n",
      "500/500 [==============================] - 8s 16ms/step - loss: 0.2428 - val_loss: 0.2985\n",
      "Epoch 8/20\n",
      "500/500 [==============================] - 8s 16ms/step - loss: 0.2345 - val_loss: 0.3107\n",
      "Epoch 9/20\n",
      "500/500 [==============================] - 8s 17ms/step - loss: 0.2265 - val_loss: 0.3095\n",
      "Epoch 10/20\n",
      "500/500 [==============================] - 8s 16ms/step - loss: 0.2179 - val_loss: 0.3120\n",
      "Epoch 11/20\n",
      "500/500 [==============================] - 8s 16ms/step - loss: 0.2145 - val_loss: 0.3212\n",
      "Epoch 12/20\n",
      "500/500 [==============================] - 8s 16ms/step - loss: 0.2064 - val_loss: 0.3202\n",
      "Epoch 13/20\n",
      "500/500 [==============================] - 10s 20ms/step - loss: 0.2000 - val_loss: 0.3194\n",
      "Epoch 14/20\n",
      "500/500 [==============================] - 11s 22ms/step - loss: 0.1957 - val_loss: 0.3201\n",
      "Epoch 15/20\n",
      "500/500 [==============================] - 10s 19ms/step - loss: 0.1901 - val_loss: 0.3168\n",
      "Epoch 16/20\n",
      "500/500 [==============================] - 8s 16ms/step - loss: 0.1855 - val_loss: 0.3262\n",
      "Epoch 17/20\n",
      "500/500 [==============================] - 8s 16ms/step - loss: 0.1824 - val_loss: 0.3261\n",
      "Epoch 18/20\n",
      "500/500 [==============================] - 8s 16ms/step - loss: 0.1797 - val_loss: 0.3290\n",
      "Epoch 19/20\n",
      "500/500 [==============================] - 8s 16ms/step - loss: 0.1769 - val_loss: 0.3319\n",
      "Epoch 20/20\n",
      "500/500 [==============================] - 8s 16ms/step - loss: 0.1745 - val_loss: 0.3252\n"
     ]
    }
   ],
   "source": [
    "from tensorflow.keras.layers import GRU\n",
    "model = Sequential()\n",
    "model.add(Conv1D(32, 5, activation='relu', input_shape=(None, df.shape[-1])))\n",
    "model.add(MaxPooling1D(3))\n",
    "model.add(Conv1D(32, 5, activation='relu'))\n",
    "model.add(GRU(32, dropout=0.1))\n",
    "model.add(Dense(1))\n",
    "\n",
    "model.summary()\n",
    "\n",
    "model.compile(optimizer=RMSprop(), loss='mae')\n",
    "history = model.fit(train_gen, steps_per_epoch=500, epochs=20,\n",
    "                    validation_data=val_gen, validation_steps=val_steps)"
   ]
  }
 ],
 "metadata": {
  "kernelspec": {
   "display_name": "Python 3",
   "language": "python",
   "name": "python3"
  },
  "language_info": {
   "codemirror_mode": {
    "name": "ipython",
    "version": 3
   },
   "file_extension": ".py",
   "mimetype": "text/x-python",
   "name": "python",
   "nbconvert_exporter": "python",
   "pygments_lexer": "ipython3",
   "version": "3.7.9"
  },
  "toc": {
   "base_numbering": 1,
   "nav_menu": {},
   "number_sections": true,
   "sideBar": true,
   "skip_h1_title": false,
   "title_cell": "Table of Contents",
   "title_sidebar": "Contents",
   "toc_cell": false,
   "toc_position": {},
   "toc_section_display": true,
   "toc_window_display": false
  },
  "varInspector": {
   "cols": {
    "lenName": 16,
    "lenType": 16,
    "lenVar": 40
   },
   "kernels_config": {
    "python": {
     "delete_cmd_postfix": "",
     "delete_cmd_prefix": "del ",
     "library": "var_list.py",
     "varRefreshCmd": "print(var_dic_list())"
    },
    "r": {
     "delete_cmd_postfix": ") ",
     "delete_cmd_prefix": "rm(",
     "library": "var_list.r",
     "varRefreshCmd": "cat(var_dic_list()) "
    }
   },
   "types_to_exclude": [
    "module",
    "function",
    "builtin_function_or_method",
    "instance",
    "_Feature"
   ],
   "window_display": false
  }
 },
 "nbformat": 4,
 "nbformat_minor": 4
}
